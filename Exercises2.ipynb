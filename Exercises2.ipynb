{
 "cells": [
  {
   "cell_type": "markdown",
   "id": "e29e873d-8985-4ea6-aa33-cc1f71235ee4",
   "metadata": {},
   "source": [
    "## In-class Exercises \n",
    "### Due on Gradescope 09/07, 11:59pm"
   ]
  },
  {
   "cell_type": "markdown",
   "id": "ec325948-62c1-4564-aec5-29b582a34a33",
   "metadata": {},
   "source": [
    "**Exercise 1**: Create a DataFrame using the following data:\n",
    "\n",
    "```python\n",
    "Name: ['Alice', 'Bob', 'Charlie', 'David']\n",
    "Age: [23, 35, 45, 25]\n",
    "City: ['New York', 'Los Angeles', 'Chicago', 'Houston']\n",
    "```\n",
    "\n",
    "**Tasks**:\n",
    "1. Display the DataFrame.\n",
    "2. Use `.info()` to check the data types of each column."
   ]
  },
  {
   "cell_type": "code",
   "execution_count": 3,
   "id": "77c531da-61f9-4e2d-8726-0483c16f434b",
   "metadata": {},
   "outputs": [
    {
     "name": "stdout",
     "output_type": "stream",
     "text": [
      "      Name  Age         City\n",
      "0    Alice   23     New York\n",
      "1      Bob   35  Los Angeles\n",
      "2  Charlie   45      Chicago\n",
      "3    David   25      Houston\n",
      "<class 'pandas.core.frame.DataFrame'>\n",
      "RangeIndex: 4 entries, 0 to 3\n",
      "Data columns (total 3 columns):\n",
      " #   Column  Non-Null Count  Dtype \n",
      "---  ------  --------------  ----- \n",
      " 0   Name    4 non-null      object\n",
      " 1   Age     4 non-null      int64 \n",
      " 2   City    4 non-null      object\n",
      "dtypes: int64(1), object(2)\n",
      "memory usage: 228.0+ bytes\n"
     ]
    }
   ],
   "source": [
    "import pandas as pd\n",
    "\n",
    "data= {\n",
    "    'Name': ['Alice', 'Bob', 'Charlie', 'David'],\n",
    "    'Age': [23, 35, 45, 25],\n",
    "    'City': ['New York', 'Los Angeles', 'Chicago', 'Houston']\n",
    "}\n",
    "df = pd.DataFrame(data)\n",
    "print(df)\n",
    "\n",
    "df.info()"
   ]
  },
  {
   "cell_type": "markdown",
   "id": "34123e6b-9102-4b7c-9b4d-db1a9935d490",
   "metadata": {},
   "source": [
    "**Exercise 2**: Given the following DataFrame:\n",
    "\n",
    "```python\n",
    "data = {\n",
    "    'Product': ['Laptop', 'Tablet', 'Smartphone', 'Desktop'],\n",
    "    'Price': [1200, 300, 800, 1500],\n",
    "    'Quantity': [10, 15, 25, 5]\n",
    "}\n",
    "\n",
    "df = pd.DataFrame(data)\n",
    "```\n",
    "\n",
    "**Tasks**:\n",
    "\n",
    "1. Use `iloc` to select the first two rows.\n",
    "2. Use `iloc` to select the `Price` column for all rows."
   ]
  },
  {
   "cell_type": "code",
   "execution_count": 6,
   "id": "4f948b84-9ae2-4249-8497-74421ac0fad0",
   "metadata": {},
   "outputs": [
    {
     "name": "stdout",
     "output_type": "stream",
     "text": [
      "      Product  Price  Quantity\n",
      "0      Laptop   1200        10\n",
      "1      Tablet    300        15\n",
      "2  Smartphone    800        25\n",
      "3     Desktop   1500         5\n",
      "  Product  Price  Quantity\n",
      "0  Laptop   1200        10\n",
      "1  Tablet    300        15\n",
      "0    1200\n",
      "1     300\n",
      "2     800\n",
      "3    1500\n",
      "Name: Price, dtype: int64\n"
     ]
    }
   ],
   "source": [
    "data2 = {\n",
    "    'Product': ['Laptop', 'Tablet', 'Smartphone', 'Desktop'],\n",
    "    'Price': [1200, 300, 800, 1500],\n",
    "    'Quantity': [10, 15, 25, 5]\n",
    "}\n",
    "\n",
    "df2 = pd.DataFrame(data2)\n",
    "print(df2)\n",
    "print(df2.iloc[[0, 1]])\n",
    "\n",
    "print(df2.iloc[0::, 1])"
   ]
  },
  {
   "cell_type": "markdown",
   "id": "db242a4d-f3a2-46df-8b96-d31d9bad973a",
   "metadata": {},
   "source": [
    "**Exercise 3**: Given the same DataFrame from Exercise 2:\n",
    "\n",
    "**Tasks**:\n",
    "\n",
    "1. Use `loc` to select the row for the `'Smartphone'` product.\n",
    "2. Use `loc` to select the `Price` and `Quantity` columns for `'Laptop'` and `'Tablet'`."
   ]
  },
  {
   "cell_type": "code",
   "execution_count": 11,
   "id": "1e0b0f0e-e1c4-49e0-890b-d4ee9334ef9c",
   "metadata": {},
   "outputs": [
    {
     "name": "stdout",
     "output_type": "stream",
     "text": [
      "      Product  Price  Quantity\n",
      "2  Smartphone    800        25\n",
      "   Price  Quantity\n",
      "0   1200        10\n",
      "1    300        15\n"
     ]
    }
   ],
   "source": [
    "print(df2.loc[df2['Product'] == 'Smartphone'])\n",
    "print(df2.loc[df2['Product'].isin(['Laptop', 'Tablet']), ['Price', 'Quantity']])"
   ]
  },
  {
   "cell_type": "markdown",
   "id": "94c496da-3ac3-415e-8380-c01dea194c0e",
   "metadata": {},
   "source": [
    "**Exercise 4**: Given a DataFrame of student scores:\n",
    "\n",
    "```python\n",
    "data = {\n",
    "    'Name': ['Alice', 'Bob', 'Charlie', 'David'],\n",
    "    'Math_Score': [85, 78, 92, 67],\n",
    "    'English_Score': [88, 74, 90, 70]\n",
    "}\n",
    "\n",
    "df = pd.DataFrame(data)\n",
    "```\n",
    "\n",
    "**Tasks**:\n",
    "\n",
    "1. Filter students who scored more than 80 in Math.\n",
    "2. Filter students who scored more than 80 in both Math and English."
   ]
  },
  {
   "cell_type": "code",
   "execution_count": 18,
   "id": "04d8b510-b380-4bac-9058-36bb5690bdbc",
   "metadata": {},
   "outputs": [
    {
     "name": "stdout",
     "output_type": "stream",
     "text": [
      "      Name  Math_Score  English_Score\n",
      "0    Alice          85             88\n",
      "2  Charlie          92             90\n",
      "      Name  Math_Score  English_Score\n",
      "0    Alice          85             88\n",
      "2  Charlie          92             90\n"
     ]
    }
   ],
   "source": [
    "data = {\n",
    "    'Name': ['Alice', 'Bob', 'Charlie', 'David'],\n",
    "    'Math_Score': [85, 78, 92, 67],\n",
    "    'English_Score': [88, 74, 90, 70]\n",
    "}\n",
    "\n",
    "df3 = pd.DataFrame(data)\n",
    "print(df3[df3['Math_Score'] > 80])\n",
    "print(df3[(df3['Math_Score'] > 80) & (df3['English_Score'] > 80)])"
   ]
  },
  {
   "cell_type": "markdown",
   "id": "4dd47028-12ef-4948-9314-8e07c0b1eef7",
   "metadata": {},
   "source": [
    "**Exercise 5**: Given a DataFrame with employee information:\n",
    "\n",
    "```python\n",
    "data = {\n",
    "    'Employee': ['Alice', 'Bob', 'Charlie', 'David'],\n",
    "    'Department': ['HR', 'IT', 'Finance', 'Marketing'],\n",
    "    'Salary': [70000, 80000, 75000, 60000]\n",
    "}\n",
    "\n",
    "df = pd.DataFrame(data)\n",
    "```\n",
    "\n",
    "**Tasks**:\n",
    "\n",
    "1. Update the salary of 'David' to 65000.\n",
    "2. Increase the salary of all employees in the 'IT' department by 10%*."
   ]
  },
  {
   "cell_type": "code",
   "execution_count": 29,
   "id": "d3ef0ad3-2671-4bc9-8a65-0a8318557aa3",
   "metadata": {},
   "outputs": [
    {
     "name": "stdout",
     "output_type": "stream",
     "text": [
      "  Employee Department  Salary\n",
      "0    Alice         HR   70000\n",
      "1      Bob         IT   80000\n",
      "2  Charlie    Finance   75000\n",
      "3    David  Marketing   60000\n",
      "  Employee Department  Salary\n",
      "0    Alice         HR   70000\n",
      "1      Bob         IT   80000\n",
      "2  Charlie    Finance   75000\n",
      "3    David  Marketing   65000\n"
     ]
    }
   ],
   "source": [
    "data = {\n",
    "    'Employee': ['Alice', 'Bob', 'Charlie', 'David'],\n",
    "    'Department': ['HR', 'IT', 'Finance', 'Marketing'],\n",
    "    'Salary': [70000, 80000, 75000, 60000]\n",
    "}\n",
    "\n",
    "df4 = pd.DataFrame(data)\n",
    "print(df4)\n",
    "\n",
    "df4.loc[df4['Employee'] == 'David', 'Salary'] = 65000\n",
    "print(df4)"
   ]
  },
  {
   "cell_type": "markdown",
   "id": "12a9122e-f491-4321-82de-89cc8988a85e",
   "metadata": {},
   "source": [
    "**Exercise 6**: Given the same DataFrame from Exercise 5:\n",
    "\n",
    "**Tasks**:\n",
    "\n",
    "1. Add a new column called `Bonus` where each employee gets a bonus of `5000`.\n",
    "2. Remove the `Department` column from the `DataFrame`."
   ]
  },
  {
   "cell_type": "code",
   "execution_count": null,
   "id": "e5a093d0-23b1-4fbf-be10-6ff2733a50ff",
   "metadata": {},
   "outputs": [],
   "source": []
  },
  {
   "cell_type": "markdown",
   "id": "88c03117-2933-4a94-bec3-ad5d95d13208",
   "metadata": {},
   "source": [
    "**Exercise 7**: Given a DataFrame containing sales data:\n",
    "\n",
    "```python\n",
    "data = {\n",
    "    'Salesperson': ['Alice', 'Bob', 'Charlie', 'David'],\n",
    "    'Region': ['East', 'West', 'East', 'West'],\n",
    "    'Sales': [100, 200, 150, 300]\n",
    "}\n",
    "\n",
    "df = pd.DataFrame(data)\n",
    "```\n",
    "**Tasks**:\n",
    "\n",
    "1. Use `iloc` to select the last two rows and then use `loc` to select only the `Sales` column from those rows.\n",
    "2. Use `loc` to select rows where the `Region` is `'East'` and then use `iloc` to get the first row of the result."
   ]
  },
  {
   "cell_type": "code",
   "execution_count": null,
   "id": "ee34e8ca-a602-4bd5-856e-217b50de0cc4",
   "metadata": {},
   "outputs": [],
   "source": []
  },
  {
   "cell_type": "markdown",
   "id": "41cb7925-9c0b-4552-9ad5-f505c8490c7e",
   "metadata": {},
   "source": [
    "**Exercise 8**: Given a DataFrame with student grades:\n",
    "\n",
    "```python\n",
    "data = {\n",
    "    'Name': ['Alice', 'Bob', 'Charlie', 'David'],\n",
    "    'Math_Score': [85, 78, 92, 67],\n",
    "    'English_Score': [88, 74, 90, 70]\n",
    "}\n",
    "\n",
    "df = pd.DataFrame(data)\n",
    "```\n",
    "\n",
    "**Tasks**:\n",
    "\n",
    "1. Create a new column `Pass_Math` which is `True` if Math_Score is greater than 70, otherwise `False`.\n",
    "2. Update the `English_Score` to `75` for all students who failed in Math."
   ]
  },
  {
   "cell_type": "code",
   "execution_count": null,
   "id": "9328385b-7695-49cb-a9b4-355cbfe8ae48",
   "metadata": {},
   "outputs": [],
   "source": []
  }
 ],
 "metadata": {
  "kernelspec": {
   "display_name": "Python 3",
   "language": "python",
   "name": "python3"
  },
  "language_info": {
   "codemirror_mode": {
    "name": "ipython",
    "version": 3
   },
   "file_extension": ".py",
   "mimetype": "text/x-python",
   "name": "python",
   "nbconvert_exporter": "python",
   "pygments_lexer": "ipython3",
   "version": "3.11.9"
  }
 },
 "nbformat": 4,
 "nbformat_minor": 5
}
