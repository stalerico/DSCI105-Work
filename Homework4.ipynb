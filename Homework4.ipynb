{
 "cells": [
  {
   "cell_type": "markdown",
   "id": "58338350-cdaa-46f5-8c80-039862b36366",
   "metadata": {},
   "source": [
    "# Homework 4 - NumPy Arrays"
   ]
  },
  {
   "cell_type": "markdown",
   "id": "228cd46f-6592-40d9-ba89-cd9771002f21",
   "metadata": {},
   "source": [
    "This is an **individual** assignment. Total: 20 points. Due:**<span style=\"color:red\">  Sunday, September 28th, 11:59 pm </span>**."
   ]
  },
  {
   "cell_type": "code",
   "execution_count": 1,
   "id": "bb6d4ac6-14a5-4381-9f7c-f5e361cdc8cb",
   "metadata": {
    "tags": []
   },
   "outputs": [],
   "source": [
    "import numpy as np\n",
    "import pandas as pd"
   ]
  },
  {
   "cell_type": "markdown",
   "id": "9062d174-fd48-413f-ac3b-26a00a6c6a0c",
   "metadata": {},
   "source": [
    "### Task 1: Generate a one-dimensional array consisting of `30` equally spaced values ranging from `5` to `50`, inclusive."
   ]
  },
  {
   "cell_type": "code",
   "execution_count": 2,
   "id": "d4e288fc-b243-472f-a5b8-80b7a9ccd458",
   "metadata": {},
   "outputs": [
    {
     "name": "stdout",
     "output_type": "stream",
     "text": [
      "[ 5.          6.55172414  8.10344828  9.65517241 11.20689655 12.75862069\n",
      " 14.31034483 15.86206897 17.4137931  18.96551724 20.51724138 22.06896552\n",
      " 23.62068966 25.17241379 26.72413793 28.27586207 29.82758621 31.37931034\n",
      " 32.93103448 34.48275862 36.03448276 37.5862069  39.13793103 40.68965517\n",
      " 42.24137931 43.79310345 45.34482759 46.89655172 48.44827586 50.        ]\n"
     ]
    }
   ],
   "source": [
    "arr = np.linspace(5, 50, 30)\n",
    "print(arr)"
   ]
  },
  {
   "cell_type": "markdown",
   "id": "4eef6d12-dee2-4715-9dcb-00ab34e480eb",
   "metadata": {
    "tags": []
   },
   "source": [
    "### Task 2: Create an array of shape `(4, 5)` and populate it with random samples from a `uniform distribution` over `[0, 1)`."
   ]
  },
  {
   "cell_type": "code",
   "execution_count": 3,
   "id": "6867eb44-47f7-4230-91fc-ea763ec18ad5",
   "metadata": {},
   "outputs": [
    {
     "name": "stdout",
     "output_type": "stream",
     "text": [
      "[[0.3837487  0.94271026 0.94417743 0.30979901 0.31867942]\n",
      " [0.4573296  0.1975044  0.74689528 0.12877244 0.94867386]\n",
      " [0.61621354 0.182366   0.24184948 0.67618773 0.33284642]\n",
      " [0.98130545 0.68026776 0.72604521 0.56750769 0.93114904]]\n"
     ]
    }
   ],
   "source": [
    "arr_uniform = np.random.uniform(0, 1, (4, 5))\n",
    "print(arr_uniform)"
   ]
  },
  {
   "cell_type": "markdown",
   "id": "7b05b5b6-9f49-444c-a721-cbbbd764a2c3",
   "metadata": {
    "tags": []
   },
   "source": [
    "### Task 3: Create a `5x5` matrix with row values ranging from `0` to `4`. Each row should be `[0, 1, 2, 3, 4]`."
   ]
  },
  {
   "cell_type": "code",
   "execution_count": 4,
   "id": "a679185e-c70c-42a5-891b-632b80833f53",
   "metadata": {},
   "outputs": [
    {
     "name": "stdout",
     "output_type": "stream",
     "text": [
      "[[0 1 2 3 4]\n",
      " [0 1 2 3 4]\n",
      " [0 1 2 3 4]\n",
      " [0 1 2 3 4]\n",
      " [0 1 2 3 4]]\n"
     ]
    }
   ],
   "source": [
    "matrix = np.tile(np.arange(5), (5, 1))\n",
    "print(matrix)"
   ]
  },
  {
   "cell_type": "markdown",
   "id": "613bc4fc-4dda-4d12-8bb6-4958e74b7170",
   "metadata": {},
   "source": [
    "### Task 4: \n",
    "#### a. Generate a `(1000, 1000)`-shaped array and fill it with random samples drawn from a `standard normal distribution` (mean μ = 0 and standard deviation σ = 1)."
   ]
  },
  {
   "cell_type": "code",
   "execution_count": 5,
   "id": "9c40c2c6-a31b-466b-802d-51a881e5b76a",
   "metadata": {},
   "outputs": [
    {
     "name": "stdout",
     "output_type": "stream",
     "text": [
      "[[ 1.38381406  0.64605556  0.58437124 ...  0.23732887  0.3713211\n",
      "  -0.43787878]\n",
      " [-1.28184427  1.00110895  0.07733352 ... -0.98422262 -2.14259973\n",
      "  -0.70062908]\n",
      " [-1.34899448  2.92117795 -0.89336414 ...  1.6962828  -0.29331224\n",
      "   0.40388292]\n",
      " ...\n",
      " [-2.25453167 -0.11813457  1.31239674 ...  0.21587308 -0.90365132\n",
      "  -0.52768504]\n",
      " [-2.02098564  0.10439576 -0.05060953 ...  0.07627127 -0.74738056\n",
      "   1.04189053]\n",
      " [ 0.92533833  1.1087653   0.62378043 ... -0.23637127  0.8753115\n",
      "  -1.03415348]]\n"
     ]
    }
   ],
   "source": [
    "arr_normal = np.random.randn(1000, 1000)\n",
    "print(arr_normal)\n"
   ]
  },
  {
   "cell_type": "markdown",
   "id": "94bfff5f-f2bd-40f1-8582-5668ea894e82",
   "metadata": {},
   "source": [
    "#### b. Then, confirm that the `mean` and `standard deviation` closely approximate `0` and `1`, respectively."
   ]
  },
  {
   "cell_type": "code",
   "execution_count": 6,
   "id": "ca060008-c255-4644-b8ad-35d08aafac5c",
   "metadata": {
    "tags": []
   },
   "outputs": [
    {
     "name": "stdout",
     "output_type": "stream",
     "text": [
      "Mean: 0.00010024762973445315\n",
      "Standard Deviation: 0.9996025473745017\n"
     ]
    }
   ],
   "source": [
    "mean_value = arr_normal.mean()\n",
    "std_value = arr_normal.std()\n",
    "\n",
    "print(\"Mean:\", mean_value)\n",
    "print(\"Standard Deviation:\", std_value)\n"
   ]
  },
  {
   "cell_type": "markdown",
   "id": "c437e515-25f5-490c-a8ba-10614286492d",
   "metadata": {},
   "source": [
    "### Task 5: Create a `7x7` NumPy array with random integers between `0` and `50`, inclusive. "
   ]
  },
  {
   "cell_type": "code",
   "execution_count": 7,
   "id": "0ad93f94-83cd-4de9-9fdd-52042e99c834",
   "metadata": {
    "tags": []
   },
   "outputs": [
    {
     "name": "stdout",
     "output_type": "stream",
     "text": [
      "[[32 14 46  8 14 39 33]\n",
      " [44 21 50 15 32 15 13]\n",
      " [ 4 42 10 21 48 34 19]\n",
      " [11 22 38 16 19 26 28]\n",
      " [47 16 30 31 18  5 44]\n",
      " [40  5 11 44 45 37 20]\n",
      " [44 14  8 12 27  9 44]]\n"
     ]
    }
   ],
   "source": [
    "arr_random_ints = np.random.randint(0, 51, (7, 7))\n",
    "print(arr_random_ints)"
   ]
  },
  {
   "cell_type": "markdown",
   "id": "4887af72-49a6-4ed0-b9e8-3a760d6b30ad",
   "metadata": {},
   "source": [
    "**a. Set all elements greater than `25` to their negative values.**"
   ]
  },
  {
   "cell_type": "code",
   "execution_count": 8,
   "id": "48b0584e-2992-43be-96fc-9792db0c0d9b",
   "metadata": {},
   "outputs": [
    {
     "name": "stdout",
     "output_type": "stream",
     "text": [
      "[[-32  14 -46   8  14 -39 -33]\n",
      " [-44  21 -50  15 -32  15  13]\n",
      " [  4 -42  10  21 -48 -34  19]\n",
      " [ 11  22 -38  16  19 -26 -28]\n",
      " [-47  16 -30 -31  18   5 -44]\n",
      " [-40   5  11 -44 -45 -37  20]\n",
      " [-44  14   8  12 -27   9 -44]]\n"
     ]
    }
   ],
   "source": [
    "arr_random_ints[arr_random_ints > 25] *= -1\n",
    "print(arr_random_ints)"
   ]
  },
  {
   "cell_type": "markdown",
   "id": "11358e28-4c19-4444-8e4f-8989a6264d7b",
   "metadata": {},
   "source": [
    "**b. Set all elements that are multiples of `5` to `0`.**"
   ]
  },
  {
   "cell_type": "code",
   "execution_count": 9,
   "id": "3224a026-fe9f-4a53-a995-a8fcb8c264dd",
   "metadata": {},
   "outputs": [
    {
     "name": "stdout",
     "output_type": "stream",
     "text": [
      "[[-32  14 -46   8  14 -39 -33]\n",
      " [-44  21   0   0 -32   0  13]\n",
      " [  4 -42   0  21 -48 -34  19]\n",
      " [ 11  22 -38  16  19 -26 -28]\n",
      " [-47  16   0 -31  18   0 -44]\n",
      " [  0   0  11 -44   0 -37   0]\n",
      " [-44  14   8  12 -27   9 -44]]\n"
     ]
    }
   ],
   "source": [
    "arr_random_ints[arr_random_ints % 5 == 0] = 0\n",
    "print(arr_random_ints)"
   ]
  },
  {
   "cell_type": "markdown",
   "id": "c6545978-56aa-40fa-8b6d-6308d47bee63",
   "metadata": {},
   "source": [
    "    **c. Compute the `sum`, `minimum`, and `maximum` of the array values following the transformations.**"
   ]
  },
  {
   "cell_type": "code",
   "execution_count": 10,
   "id": "123e183e-b93d-472c-b982-297fe87a0686",
   "metadata": {},
   "outputs": [
    {
     "name": "stdout",
     "output_type": "stream",
     "text": [
      "Sum: -490\n",
      "Min: -48\n",
      "Max: 22\n"
     ]
    }
   ],
   "source": [
    "arr_sum = arr_random_ints.sum()\n",
    "arr_min = arr_random_ints.min()\n",
    "arr_max = arr_random_ints.max()\n",
    "\n",
    "print(\"Sum:\", arr_sum)\n",
    "print(\"Min:\", arr_min)\n",
    "print(\"Max:\", arr_max)"
   ]
  },
  {
   "cell_type": "markdown",
   "id": "9e609b81-5b35-4e01-8894-995c09a1c38e",
   "metadata": {},
   "source": [
    "### Task 6: Create a `6x6` NumPy array with random integers between `10` and `99`, inclusive."
   ]
  },
  {
   "cell_type": "code",
   "execution_count": 11,
   "id": "2a97155f-9b26-4e57-90ee-87f63c2e7f57",
   "metadata": {
    "tags": []
   },
   "outputs": [
    {
     "name": "stdout",
     "output_type": "stream",
     "text": [
      "[[54 30 54 53 81 35]\n",
      " [87 77 17 28 90 17]\n",
      " [13 84 23 35 44 99]\n",
      " [50 81 81 37 32 79]\n",
      " [96 86 88 96 96 29]\n",
      " [12 30 73 80 75 63]]\n"
     ]
    }
   ],
   "source": [
    "arr_6x6 = np.random.randint(10, 100, (6, 6))\n",
    "print(arr_6x6)"
   ]
  },
  {
   "cell_type": "markdown",
   "id": "0ebe7f66-1db5-4cca-a9dc-872d4d76aeb9",
   "metadata": {},
   "source": [
    "**a. Calculate the `sum` of each `row`.**"
   ]
  },
  {
   "cell_type": "code",
   "execution_count": 12,
   "id": "e80ee80b-a8ee-4ff1-8e2f-f870158dd122",
   "metadata": {},
   "outputs": [
    {
     "name": "stdout",
     "output_type": "stream",
     "text": [
      "[307 316 298 360 491 333]\n"
     ]
    }
   ],
   "source": [
    "row_sums = arr_6x6.sum(axis=1)\n",
    "print(row_sums)"
   ]
  },
  {
   "cell_type": "markdown",
   "id": "8fd12588-8190-43ed-a6ae-0ecebecbda6f",
   "metadata": {},
   "source": [
    "**b. Calculate the `sum` of each `column`.**"
   ]
  },
  {
   "cell_type": "code",
   "execution_count": 13,
   "id": "a2c61c86-b718-4d01-ac18-275e881bc482",
   "metadata": {},
   "outputs": [
    {
     "name": "stdout",
     "output_type": "stream",
     "text": [
      "[312 388 336 329 418 322]\n"
     ]
    }
   ],
   "source": [
    "col_sums = arr_6x6.sum(axis=0)\n",
    "print(col_sums)"
   ]
  },
  {
   "cell_type": "markdown",
   "id": "dea8f92a-b330-4397-9ea8-8288dd3bd542",
   "metadata": {},
   "source": [
    "**c. Normalize each `row` so that its values `sum to 1`.**"
   ]
  },
  {
   "cell_type": "code",
   "execution_count": 14,
   "id": "4b0b8875-477b-4ef1-ba92-e1aa92ab87f6",
   "metadata": {},
   "outputs": [
    {
     "name": "stdout",
     "output_type": "stream",
     "text": [
      "[[0.17589577 0.09771987 0.17589577 0.17263844 0.26384365 0.11400651]\n",
      " [0.27531646 0.24367089 0.05379747 0.08860759 0.28481013 0.05379747]\n",
      " [0.04362416 0.28187919 0.07718121 0.11744966 0.14765101 0.33221477]\n",
      " [0.13888889 0.225      0.225      0.10277778 0.08888889 0.21944444]\n",
      " [0.19551935 0.17515275 0.17922607 0.19551935 0.19551935 0.05906314]\n",
      " [0.03603604 0.09009009 0.21921922 0.24024024 0.22522523 0.18918919]]\n"
     ]
    }
   ],
   "source": [
    "row_sums = arr_6x6.sum(axis=1, keepdims=True)\n",
    "normalized_rows = arr_6x6 / row_sums\n",
    "print(normalized_rows)"
   ]
  },
  {
   "cell_type": "markdown",
   "id": "ec590997-3db7-438c-babc-e56aa19d152c",
   "metadata": {},
   "source": [
    "### Task 7: Create a random array of size `20` and replace the `maximum` value by `0` and the `minimum` value by `-1`."
   ]
  },
  {
   "cell_type": "code",
   "execution_count": 15,
   "id": "55aae91e-b18a-444b-bfcb-526b3cc3bf5a",
   "metadata": {
    "tags": []
   },
   "outputs": [
    {
     "name": "stdout",
     "output_type": "stream",
     "text": [
      "[ 0.16340005  0.07216423  0.4927121   0.83423401  0.43031581  0.17372183\n",
      "  0.88774567  0.62817578 -1.          0.62206874  0.36868069  0.15814291\n",
      "  0.56217808  0.38919874  0.78993652  0.53301034  0.31965003  0.51104155\n",
      "  0.14206446  0.43500996]\n"
     ]
    }
   ],
   "source": [
    "arr_20 = np.random.rand(20)\n",
    "arr_20[arr_20.argmax()] = 0\n",
    "arr_20[arr_20.argmin()] = -1\n",
    "print(arr_20)\n"
   ]
  },
  {
   "cell_type": "markdown",
   "id": "6f18a920-8940-4d27-9ff5-038e8a64cf30",
   "metadata": {
    "tags": []
   },
   "source": [
    "### Task 8: Generate the first `20` numbers of the Fibonacci sequence and store them in a NumPy array. Use a loop or vectorized operations to compute the sequence."
   ]
  },
  {
   "cell_type": "code",
   "execution_count": 16,
   "id": "22d89dcb-11cd-440a-a494-fd4554767487",
   "metadata": {
    "tags": []
   },
   "outputs": [
    {
     "name": "stdout",
     "output_type": "stream",
     "text": [
      "[   0    1    1    2    3    5    8   13   21   34   55   89  144  233\n",
      "  377  610  987 1597 2584 4181]\n"
     ]
    }
   ],
   "source": [
    "fib = np.zeros(20, dtype=int)\n",
    "fib[0], fib[1] = 0, 1\n",
    "for i in range(2, 20):\n",
    "    fib[i] = fib[i-1] + fib[i-2]\n",
    "print(fib)"
   ]
  },
  {
   "cell_type": "markdown",
   "id": "1e25630a-3d25-47ee-ad0a-85ebfb9a69a0",
   "metadata": {},
   "source": [
    "### Task 9: What is the equivalent of `enumerate` for numpy arrays? Illustrate the syntax by iterating through a 2D array that you create."
   ]
  },
  {
   "cell_type": "code",
   "execution_count": 17,
   "id": "ad095e79-de82-4274-9eaf-177cb2ecbd6b",
   "metadata": {},
   "outputs": [
    {
     "name": "stdout",
     "output_type": "stream",
     "text": [
      "Index: (0, 0), Value: 10\n",
      "Index: (0, 1), Value: 20\n",
      "Index: (0, 2), Value: 30\n",
      "Index: (1, 0), Value: 40\n",
      "Index: (1, 1), Value: 50\n",
      "Index: (1, 2), Value: 60\n"
     ]
    }
   ],
   "source": [
    "arr_2d = np.array([[10, 20, 30], [40, 50, 60]])\n",
    "\n",
    "for index, value in np.ndenumerate(arr_2d):\n",
    "    print(f\"Index: {index}, Value: {value}\")\n",
    "#equivalent of enumerate is np.ndenumerate"
   ]
  },
  {
   "cell_type": "markdown",
   "id": "a6d7905e-3fdf-4af6-845a-a686db5c2ef9",
   "metadata": {},
   "source": [
    "### Task 10: How do you find the common values between two arrays?"
   ]
  },
  {
   "cell_type": "code",
   "execution_count": null,
   "id": "8768488e-242f-406c-a33f-f5a28886abb1",
   "metadata": {},
   "outputs": [],
   "source": [
    "#np.intersect1d"
   ]
  }
 ],
 "metadata": {
  "kernelspec": {
   "display_name": "Python 3",
   "language": "python",
   "name": "python3"
  },
  "language_info": {
   "codemirror_mode": {
    "name": "ipython",
    "version": 3
   },
   "file_extension": ".py",
   "mimetype": "text/x-python",
   "name": "python",
   "nbconvert_exporter": "python",
   "pygments_lexer": "ipython3",
   "version": "3.11.9"
  }
 },
 "nbformat": 4,
 "nbformat_minor": 5
}
