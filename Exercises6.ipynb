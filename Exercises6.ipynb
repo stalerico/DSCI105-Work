{
 "cells": [
  {
   "cell_type": "markdown",
   "id": "81fda316-659d-4730-aefd-117828924ae8",
   "metadata": {},
   "source": [
    "# Exercises 6 (09/29): "
   ]
  },
  {
   "cell_type": "markdown",
   "id": "7b302965-ccf4-49f3-9137-6b5ed9fda0b1",
   "metadata": {},
   "source": [
    "**Task 1**: Create a Table for Storing Book Information\n",
    "* Write and execute a SQL query to create a new table named `Books` to store information about various books.\n",
    "* The table should include the following columns:\n",
    "    * `Title` (VARCHAR, max length 255)\n",
    "    * `Author` (VARCHAR, max length 255)\n",
    "    * `PublicationYear` (YEAR)\n",
    "    * `Price` (INTEGER)\n",
    "\n",
    "**Task 2**: Insert Data into the `Books` Table\n",
    "* Write and execute SQL `INSERT` statements to add information about at least `three` books into the `Books` table.\n",
    "* Each entry should include a `title`, `author`, `publication year`, and `price` (where price is an integer value).\n",
    "\n",
    "**Task 3**: Retrieve All Records from the `Books` Table\n",
    "* Write and execute a `SELECT` query to retrieve all columns for all books currently in the `Books` table.\n",
    "* Display the results to verify that the data has been inserted correctly.\n",
    "\n",
    "**Task 4**: Modify the Price of a Book\n",
    "* Write a SQL `UPDATE` statement to modify the price of a book or a set of books based on a specific condition.\n",
    "* You can choose any condition, such as updating the price of books published after a certain year or by a specific author.\n",
    "\n",
    "**Task 5**: Delete a Specific Book or a Set of Books\n",
    "* Write and execute a `DELETE` query to remove a specific book or a set of books based on a condition of your choice (e.g., deleting books by a particular author or published before a certain year).\n",
    "\n",
    "**Task 6**: Research Task\n",
    "* Learn how to utilize the MySQL Connector in Python to establish a connection with a MySQL database. Refer to the example provided at the start of the lecture for guidance.\n",
    "* After making the connection, write a script that retrieves and displays all records from the `Books` table after performing the above operations (e.g., after deleting or updating book data).\n",
    "* Research the following methods in Python's MySQL Connector:\n",
    "    * `cursor()`: Understand how to create a cursor object to interact with the database.\n",
    "    * `execute()`: Learn how to use this method to run SQL queries through the cursor.\n",
    "    * `fetchall()`: Explore how to retrieve all the results from a query after execution.\n",
    "* Execute a `SELECT * FROM Books;` query to retrieve all the book records."
   ]
  }
 ],
 "metadata": {
  "kernelspec": {
   "display_name": "Python 3 (ipykernel)",
   "language": "python",
   "name": "python3"
  },
  "language_info": {
   "codemirror_mode": {
    "name": "ipython",
    "version": 3
   },
   "file_extension": ".py",
   "mimetype": "text/x-python",
   "name": "python",
   "nbconvert_exporter": "python",
   "pygments_lexer": "ipython3",
   "version": "3.13.0"
  }
 },
 "nbformat": 4,
 "nbformat_minor": 5
}
