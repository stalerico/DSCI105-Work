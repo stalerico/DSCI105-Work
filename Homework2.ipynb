{
 "cells": [
  {
   "cell_type": "markdown",
   "id": "5ee60bc0-73d9-494f-abf2-fb078b117ac2",
   "metadata": {},
   "source": [
    "# Homework 2 - Missing Values Handling and Aggregation"
   ]
  },
  {
   "cell_type": "markdown",
   "id": "d890c46e-06f6-473c-a047-f3b4dae90f85",
   "metadata": {},
   "source": [
    "This is an **individual** assignment. Total: 20 points. Due:**<span style=\"color:red\">  Sunday, September 14th, 11:59 pm </span>**.\n",
    "\n",
    "Whenever you make changes to the DataFrame, **display the updated results** to verify the modifications—even if the task doesn't explicitly ask you to do so."
   ]
  },
  {
   "cell_type": "markdown",
   "id": "b8d69d3f-466b-4dcf-86a6-db2eec064476",
   "metadata": {},
   "source": [
    "#### Task 1: Download the dataset from this [link](https://raw.githubusercontent.com/catalinVeghes/DSCI-105-Applied-Data-Analytics/refs/heads/main/datasets/Retail_Product_Dataset.csv) and load it into a DataFrame called `retail_data`. Then, display the DataFrame to verify that it was successfully loaded. "
   ]
  },
  {
   "cell_type": "code",
   "execution_count": 353,
   "id": "6a761849-bd59-4d1d-a0df-5a980b5d2d41",
   "metadata": {
    "tags": []
   },
   "outputs": [
    {
     "name": "stdout",
     "output_type": "stream",
     "text": [
      "  Category   Price    Rating         Stock  Discount\n",
      "0      NaN  5548.0  1.870322           NaN       0.0\n",
      "1      NaN  3045.0  4.757798           NaN      38.0\n",
      "2      NaN  4004.0       NaN      In Stock       0.0\n",
      "3      NaN  4808.0  1.492085           NaN      33.0\n",
      "4      NaN  1817.0       NaN  Out of Stock      23.0\n"
     ]
    }
   ],
   "source": [
    "import pandas as pd\n",
    "df = pd.read_csv('https://raw.githubusercontent.com/catalinVeghes/DSCI-105-Applied-Data-Analytics/refs/heads/main/datasets/Retail_Product_Dataset.csv')\n",
    "print(df.head())"
   ]
  },
  {
   "cell_type": "markdown",
   "id": "12578290-b7cc-42a6-a31c-8011e706e5e0",
   "metadata": {},
   "source": [
    "#### Task 2: Create a new column named `Product_ID` with values like `Product 1`, `Product 2`, and so on for each row. Set this column as the custom index of the DataFrame. Don't forget the `inplace=True`."
   ]
  },
  {
   "cell_type": "code",
   "execution_count": 354,
   "id": "83be8eb4-9bb9-4247-bb8f-314b5b075b0d",
   "metadata": {},
   "outputs": [
    {
     "name": "stdout",
     "output_type": "stream",
     "text": [
      "             Category   Price    Rating         Stock  Discount\n",
      "Product_ID                                                     \n",
      "Product 1         NaN  5548.0  1.870322           NaN       0.0\n",
      "Product 2         NaN  3045.0  4.757798           NaN      38.0\n",
      "Product 3         NaN  4004.0       NaN      In Stock       0.0\n",
      "Product 4         NaN  4808.0  1.492085           NaN      33.0\n",
      "Product 5         NaN  1817.0       NaN  Out of Stock      23.0\n",
      "...               ...     ...       ...           ...       ...\n",
      "Product 4358      NaN  4436.0  4.728335           NaN      49.0\n",
      "Product 4359        B  6236.0       NaN  Out of Stock       4.0\n",
      "Product 4360      NaN  3283.0       NaN  Out of Stock       9.0\n",
      "Product 4361        D  2999.0  4.425995           NaN      40.0\n",
      "Product 4362      NaN     NaN  2.184471           NaN       0.0\n",
      "\n",
      "[4362 rows x 5 columns]\n"
     ]
    }
   ],
   "source": [
    "df['Product_ID'] = ['Product ' + str(x) for  x in range(1, len(df) + 1)]\n",
    "df.set_index('Product_ID', inplace=True)\n",
    "print(df)"
   ]
  },
  {
   "cell_type": "markdown",
   "id": "8f64abe3-466b-46a3-b031-71a8cf253f33",
   "metadata": {},
   "source": [
    "#### Task 3: Calculate the number of missing values for each column `individually`. Then, compute the total number of missing values across all columns `combined`."
   ]
  },
  {
   "cell_type": "code",
   "execution_count": 355,
   "id": "35afd170-b7b6-4df3-a26a-0839f63ab950",
   "metadata": {},
   "outputs": [
    {
     "name": "stdout",
     "output_type": "stream",
     "text": [
      "Category    2748\n",
      "Price        174\n",
      "Rating      2050\n",
      "Stock       1352\n",
      "Discount     392\n",
      "dtype: int64\n",
      "Total Sum: 6716\n"
     ]
    }
   ],
   "source": [
    "print(df.isnull().sum())\n",
    "print(\"Total Sum:\", df.isnull().sum().sum())"
   ]
  },
  {
   "cell_type": "markdown",
   "id": "7489359d-147a-43c1-af9f-5608be2591e6",
   "metadata": {},
   "source": [
    "#### Task 4: Calculate `the percentage` of missing values for each column `individually`."
   ]
  },
  {
   "cell_type": "code",
   "execution_count": 356,
   "id": "09408dca-10fe-4487-b433-2e7c9238ac0a",
   "metadata": {},
   "outputs": [
    {
     "name": "stdout",
     "output_type": "stream",
     "text": [
      "Category    62.999\n",
      "Price        3.989\n",
      "Rating      46.997\n",
      "Stock       30.995\n",
      "Discount     8.987\n",
      "dtype: float64\n"
     ]
    }
   ],
   "source": [
    "print((df.isnull().sum()/len(df)).round(5) *100)"
   ]
  },
  {
   "cell_type": "markdown",
   "id": "18b71106-1e59-4db4-8db2-e524b3a8b83a",
   "metadata": {},
   "source": [
    "#### Task 5: Assign the category `E` to all products with a missing category. Then, display the DataFrame to confirm that the changes have been applied."
   ]
  },
  {
   "cell_type": "code",
   "execution_count": 357,
   "id": "370e8a51-0677-4372-a916-d47b61e814ac",
   "metadata": {},
   "outputs": [
    {
     "name": "stdout",
     "output_type": "stream",
     "text": [
      "             Category   Price    Rating         Stock  Discount\n",
      "Product_ID                                                     \n",
      "Product 1           E  5548.0  1.870322           NaN       0.0\n",
      "Product 2           E  3045.0  4.757798           NaN      38.0\n",
      "Product 3           E  4004.0       NaN      In Stock       0.0\n",
      "Product 4           E  4808.0  1.492085           NaN      33.0\n",
      "Product 5           E  1817.0       NaN  Out of Stock      23.0\n",
      "...               ...     ...       ...           ...       ...\n",
      "Product 4358        E  4436.0  4.728335           NaN      49.0\n",
      "Product 4359        B  6236.0       NaN  Out of Stock       4.0\n",
      "Product 4360        E  3283.0       NaN  Out of Stock       9.0\n",
      "Product 4361        D  2999.0  4.425995           NaN      40.0\n",
      "Product 4362        E     NaN  2.184471           NaN       0.0\n",
      "\n",
      "[4362 rows x 5 columns]\n"
     ]
    }
   ],
   "source": [
    "df['Category'] = df['Category'].fillna('E')\n",
    "print(df)"
   ]
  },
  {
   "cell_type": "markdown",
   "id": "5b57913c-fe47-4ce5-a4a8-ba644c8cdda0",
   "metadata": {},
   "source": [
    "#### Task 6: What happens when you attempt to convert the `Price` column from `float` to `integer` type? Explain the issue that arises and suggest one way to resolve it."
   ]
  },
  {
   "cell_type": "code",
   "execution_count": 358,
   "id": "6c2c66de-d012-40e3-9d86-8ec27ca9f362",
   "metadata": {},
   "outputs": [],
   "source": [
    "# df.astype({'Price': 'int'}) #it cant convert the NaN values to int unless tose values are 0 or are changed to the mean"
   ]
  },
  {
   "cell_type": "markdown",
   "id": "3c810cf7-e377-4c59-9820-4dbfcd20bb67",
   "metadata": {},
   "source": [
    "#### Task 7: Apply `linear interpolation` to fill in the missing values in the `Price` column. Then, calculate `the mean` of the column after the missing values have been filled."
   ]
  },
  {
   "cell_type": "code",
   "execution_count": 359,
   "id": "071e9ac7-3b18-4927-ae39-a8a0ae9b61bf",
   "metadata": {},
   "outputs": [
    {
     "name": "stdout",
     "output_type": "stream",
     "text": [
      "5012.550091701055\n"
     ]
    }
   ],
   "source": [
    "df['Price']= df['Price'].interpolate(method='linear')\n",
    "print(df['Price'].mean())"
   ]
  },
  {
   "cell_type": "markdown",
   "id": "4ac21a90-0f0b-492f-bdc6-b239e120b347",
   "metadata": {},
   "source": [
    "#### Task 8: Apply both `forward fill` and `backward fill` methods to fill the missing values in the `Rating` column. Compare the total sum of the column after each method and determine which one results in a smaller total sum. Use that approach to update the original DataFrame."
   ]
  },
  {
   "cell_type": "code",
   "execution_count": 360,
   "id": "de9251ba-b1e4-4152-8b14-5dc1139ca1a1",
   "metadata": {},
   "outputs": [
    {
     "name": "stdout",
     "output_type": "stream",
     "text": [
      "13270.127297654217\n",
      "13441.984197582526\n"
     ]
    },
    {
     "name": "stderr",
     "output_type": "stream",
     "text": [
      "C:\\Users\\cxina\\AppData\\Local\\Temp\\ipykernel_52856\\2295912307.py:2: FutureWarning: DataFrame.backfill/Series.backfill is deprecated. Use DataFrame.bfill/Series.bfill instead\n",
      "  print(df['Rating'].backfill().sum())\n"
     ]
    }
   ],
   "source": [
    "print(df['Rating'].ffill().sum()) #this one produces a smaller total sum\n",
    "print(df['Rating'].backfill().sum())\n",
    "\n",
    "df['Rating'] = df['Rating'].ffill()"
   ]
  },
  {
   "cell_type": "markdown",
   "id": "e4dd659d-94f7-41ec-a10c-ffbe9b2af705",
   "metadata": {},
   "source": [
    "#### Task 9: Use the `replace()` function to fill the missing values in the `Stock` column with the label `\"Stock Unknown\"`. Then, display the DataFrame to confirm that the changes have been applied."
   ]
  },
  {
   "cell_type": "code",
   "execution_count": 361,
   "id": "23811c9e-25f7-49f0-ab3b-a8d962dc780a",
   "metadata": {},
   "outputs": [
    {
     "name": "stdout",
     "output_type": "stream",
     "text": [
      "             Category   Price    Rating          Stock  Discount\n",
      "Product_ID                                                      \n",
      "Product 1           E  5548.0  1.870322  Stock Unknown       0.0\n",
      "Product 2           E  3045.0  4.757798  Stock Unknown      38.0\n",
      "Product 3           E  4004.0  4.757798       In Stock       0.0\n",
      "Product 4           E  4808.0  1.492085  Stock Unknown      33.0\n",
      "Product 5           E  1817.0  1.492085   Out of Stock      23.0\n",
      "...               ...     ...       ...            ...       ...\n",
      "Product 4358        E  4436.0  4.728335  Stock Unknown      49.0\n",
      "Product 4359        B  6236.0  4.728335   Out of Stock       4.0\n",
      "Product 4360        E  3283.0  4.728335   Out of Stock       9.0\n",
      "Product 4361        D  2999.0  4.425995  Stock Unknown      40.0\n",
      "Product 4362        E  2999.0  2.184471  Stock Unknown       0.0\n",
      "\n",
      "[4362 rows x 5 columns]\n"
     ]
    }
   ],
   "source": [
    "df['Stock'] = df['Stock'].replace({None: \"Stock Unknown\"})\n",
    "print(df)"
   ]
  },
  {
   "cell_type": "markdown",
   "id": "86d96f82-b5b2-4c25-8428-32a4e3eca4ab",
   "metadata": {},
   "source": [
    "#### Task 10: Use `reindex()` to rearrange the rows so that `Product_IDs` appear from highest to lowest. Do not modify the original DataFrame."
   ]
  },
  {
   "cell_type": "code",
   "execution_count": 362,
   "id": "519c38a8-09e6-4616-90f7-1104467107c4",
   "metadata": {},
   "outputs": [
    {
     "name": "stdout",
     "output_type": "stream",
     "text": [
      "             Category   Price    Rating          Stock  Discount\n",
      "Product_ID                                                      \n",
      "Product 999         E  2806.0  1.074642   Out of Stock      30.0\n",
      "Product 998         D  5144.0  3.992800   Out of Stock      27.0\n",
      "Product 997         E  8537.0  2.955840  Stock Unknown      10.0\n",
      "Product 996         E  4917.0  2.308269   Out of Stock      21.0\n",
      "Product 995         E  9692.0  2.308269       In Stock      26.0\n",
      "...               ...     ...       ...            ...       ...\n",
      "Product 1001        E   564.0  4.723567  Stock Unknown      49.0\n",
      "Product 1000        E  9585.0  4.723567       In Stock      24.0\n",
      "Product 100         E  2778.0  4.647671  Stock Unknown      43.0\n",
      "Product 10          E   463.0  4.626187  Stock Unknown       3.0\n",
      "Product 1           E  5548.0  1.870322  Stock Unknown       0.0\n",
      "\n",
      "[4362 rows x 5 columns]\n"
     ]
    }
   ],
   "source": [
    "print(df.reindex(df.index.sort_values(ascending=False)))"
   ]
  },
  {
   "cell_type": "markdown",
   "id": "6e5beeed-f128-43f8-b013-fc686214855e",
   "metadata": {},
   "source": [
    "#### Task 11: Map the encoded Category values (A–E) to real category names using `.map()`: A → Electronics, B → Clothing, C → Groceries, D → Home & Kitchen, E → Sports & Outdoors."
   ]
  },
  {
   "cell_type": "code",
   "execution_count": 363,
   "id": "787e9348-6c77-4e19-8580-f34666a7e943",
   "metadata": {},
   "outputs": [
    {
     "name": "stdout",
     "output_type": "stream",
     "text": [
      "                       Category   Price    Rating          Stock  Discount\n",
      "Product_ID                                                                \n",
      "Product 1     Sports & Outdoors  5548.0  1.870322  Stock Unknown       0.0\n",
      "Product 2     Sports & Outdoors  3045.0  4.757798  Stock Unknown      38.0\n",
      "Product 3     Sports & Outdoors  4004.0  4.757798       In Stock       0.0\n",
      "Product 4     Sports & Outdoors  4808.0  1.492085  Stock Unknown      33.0\n",
      "Product 5     Sports & Outdoors  1817.0  1.492085   Out of Stock      23.0\n",
      "...                         ...     ...       ...            ...       ...\n",
      "Product 4358  Sports & Outdoors  4436.0  4.728335  Stock Unknown      49.0\n",
      "Product 4359           Clothing  6236.0  4.728335   Out of Stock       4.0\n",
      "Product 4360  Sports & Outdoors  3283.0  4.728335   Out of Stock       9.0\n",
      "Product 4361     Home & Kitchen  2999.0  4.425995  Stock Unknown      40.0\n",
      "Product 4362  Sports & Outdoors  2999.0  2.184471  Stock Unknown       0.0\n",
      "\n",
      "[4362 rows x 5 columns]\n"
     ]
    }
   ],
   "source": [
    "map = {\n",
    "    'A': 'Electronics',\n",
    "    'B': 'Clothing',\n",
    "    'C': 'Groceries',\n",
    "    'D': 'Home & Kitchen',\n",
    "    'E': 'Sports & Outdoors'\n",
    "}\n",
    "\n",
    "df['Category'] = df['Category'].map(map)\n",
    "print(df)\n"
   ]
  },
  {
   "cell_type": "markdown",
   "id": "72079b00-1391-4f64-b93f-6fe8601d6a9d",
   "metadata": {},
   "source": [
    "#### Task 12: Create a custom function that returns `\"Low\"` if Rating is below 3, `\"Medium\"` if it's between 3 (inclusive) and 4, and `\"High\"` if it's 4 or above. Use `.apply()` to apply this function row-wise and store the result in a new column called `Rating_Level`. Then, count how many `\"Low\"`, `\"Medium\"`, and `\"High\"` ratings exist in the final DataFrame."
   ]
  },
  {
   "cell_type": "code",
   "execution_count": 364,
   "id": "d1a65f69-1bdc-4a8c-b241-02836f2b6e4b",
   "metadata": {},
   "outputs": [
    {
     "name": "stdout",
     "output_type": "stream",
     "text": [
      "Rating_Level\n",
      "Low       2104\n",
      "Medium    1156\n",
      "High      1102\n",
      "Name: count, dtype: int64\n"
     ]
    }
   ],
   "source": [
    "def rating_level(rating):\n",
    "    if rating < 3:\n",
    "        return \"Low\"\n",
    "    elif 3 <= rating < 4:\n",
    "        return \"Medium\"\n",
    "    else:\n",
    "        return \"High\"\n",
    "\n",
    "df['Rating_Level'] = df['Rating'].apply(rating_level)\n",
    "print(df['Rating_Level'].value_counts())\n"
   ]
  },
  {
   "cell_type": "markdown",
   "id": "3a765329-4ebe-42f7-8869-b93504c1d20c",
   "metadata": {},
   "source": [
    "#### Task 13: Extract `20%` of the rows from the original DataFrame to create a new subset. For this new DataFrame, apply a multi-level index using `Stock` as the first level and `Rating_Level` as the second. Use this updated DataFrame for all subsequent steps in the notebook."
   ]
  },
  {
   "cell_type": "code",
   "execution_count": 365,
   "id": "96fb7d41-b92b-441d-856a-4289ba26c396",
   "metadata": {},
   "outputs": [
    {
     "data": {
      "text/html": [
       "<div>\n",
       "<style scoped>\n",
       "    .dataframe tbody tr th:only-of-type {\n",
       "        vertical-align: middle;\n",
       "    }\n",
       "\n",
       "    .dataframe tbody tr th {\n",
       "        vertical-align: top;\n",
       "    }\n",
       "\n",
       "    .dataframe thead th {\n",
       "        text-align: right;\n",
       "    }\n",
       "</style>\n",
       "<table border=\"1\" class=\"dataframe\">\n",
       "  <thead>\n",
       "    <tr style=\"text-align: right;\">\n",
       "      <th></th>\n",
       "      <th></th>\n",
       "      <th>Category</th>\n",
       "      <th>Price</th>\n",
       "      <th>Rating</th>\n",
       "      <th>Discount</th>\n",
       "    </tr>\n",
       "    <tr>\n",
       "      <th>Stock</th>\n",
       "      <th>Rating_Level</th>\n",
       "      <th></th>\n",
       "      <th></th>\n",
       "      <th></th>\n",
       "      <th></th>\n",
       "    </tr>\n",
       "  </thead>\n",
       "  <tbody>\n",
       "    <tr>\n",
       "      <th rowspan=\"3\" valign=\"top\">Out of Stock</th>\n",
       "      <th>High</th>\n",
       "      <td>Sports &amp; Outdoors</td>\n",
       "      <td>1880.0</td>\n",
       "      <td>4.177730</td>\n",
       "      <td>33.0</td>\n",
       "    </tr>\n",
       "    <tr>\n",
       "      <th>High</th>\n",
       "      <td>Sports &amp; Outdoors</td>\n",
       "      <td>6069.0</td>\n",
       "      <td>4.148878</td>\n",
       "      <td>15.0</td>\n",
       "    </tr>\n",
       "    <tr>\n",
       "      <th>Low</th>\n",
       "      <td>Sports &amp; Outdoors</td>\n",
       "      <td>1894.0</td>\n",
       "      <td>2.329488</td>\n",
       "      <td>NaN</td>\n",
       "    </tr>\n",
       "    <tr>\n",
       "      <th rowspan=\"2\" valign=\"top\">Stock Unknown</th>\n",
       "      <th>Medium</th>\n",
       "      <td>Sports &amp; Outdoors</td>\n",
       "      <td>4871.0</td>\n",
       "      <td>3.759453</td>\n",
       "      <td>28.0</td>\n",
       "    </tr>\n",
       "    <tr>\n",
       "      <th>Medium</th>\n",
       "      <td>Electronics</td>\n",
       "      <td>7180.0</td>\n",
       "      <td>3.331716</td>\n",
       "      <td>2.0</td>\n",
       "    </tr>\n",
       "    <tr>\n",
       "      <th>...</th>\n",
       "      <th>...</th>\n",
       "      <td>...</td>\n",
       "      <td>...</td>\n",
       "      <td>...</td>\n",
       "      <td>...</td>\n",
       "    </tr>\n",
       "    <tr>\n",
       "      <th>Out of Stock</th>\n",
       "      <th>High</th>\n",
       "      <td>Sports &amp; Outdoors</td>\n",
       "      <td>2558.0</td>\n",
       "      <td>4.522073</td>\n",
       "      <td>1.0</td>\n",
       "    </tr>\n",
       "    <tr>\n",
       "      <th rowspan=\"2\" valign=\"top\">In Stock</th>\n",
       "      <th>Medium</th>\n",
       "      <td>Clothing</td>\n",
       "      <td>1241.0</td>\n",
       "      <td>3.728174</td>\n",
       "      <td>9.0</td>\n",
       "    </tr>\n",
       "    <tr>\n",
       "      <th>High</th>\n",
       "      <td>Electronics</td>\n",
       "      <td>4752.0</td>\n",
       "      <td>4.589988</td>\n",
       "      <td>1.0</td>\n",
       "    </tr>\n",
       "    <tr>\n",
       "      <th rowspan=\"2\" valign=\"top\">Stock Unknown</th>\n",
       "      <th>Low</th>\n",
       "      <td>Clothing</td>\n",
       "      <td>3343.0</td>\n",
       "      <td>1.482812</td>\n",
       "      <td>38.0</td>\n",
       "    </tr>\n",
       "    <tr>\n",
       "      <th>Low</th>\n",
       "      <td>Clothing</td>\n",
       "      <td>6898.0</td>\n",
       "      <td>1.689000</td>\n",
       "      <td>NaN</td>\n",
       "    </tr>\n",
       "  </tbody>\n",
       "</table>\n",
       "<p>872 rows × 4 columns</p>\n",
       "</div>"
      ],
      "text/plain": [
       "                                     Category   Price    Rating  Discount\n",
       "Stock         Rating_Level                                               \n",
       "Out of Stock  High          Sports & Outdoors  1880.0  4.177730      33.0\n",
       "              High          Sports & Outdoors  6069.0  4.148878      15.0\n",
       "              Low           Sports & Outdoors  1894.0  2.329488       NaN\n",
       "Stock Unknown Medium        Sports & Outdoors  4871.0  3.759453      28.0\n",
       "              Medium              Electronics  7180.0  3.331716       2.0\n",
       "...                                       ...     ...       ...       ...\n",
       "Out of Stock  High          Sports & Outdoors  2558.0  4.522073       1.0\n",
       "In Stock      Medium                 Clothing  1241.0  3.728174       9.0\n",
       "              High                Electronics  4752.0  4.589988       1.0\n",
       "Stock Unknown Low                    Clothing  3343.0  1.482812      38.0\n",
       "              Low                    Clothing  6898.0  1.689000       NaN\n",
       "\n",
       "[872 rows x 4 columns]"
      ]
     },
     "execution_count": 365,
     "metadata": {},
     "output_type": "execute_result"
    }
   ],
   "source": [
    "subset_df = df.sample(frac=0.2)\n",
    "subset_df = subset_df.set_index(['Stock', 'Rating_Level'])\n",
    "subset_df\n"
   ]
  },
  {
   "cell_type": "markdown",
   "id": "be557ee3-b4e7-49b1-87fb-a43fb24bc979",
   "metadata": {},
   "source": [
    "#### Task 14: Swap the index levels of the DataFrame, then sort it in `ascending` order by the new Level 0 index (which was originally Level 1)."
   ]
  },
  {
   "cell_type": "code",
   "execution_count": 366,
   "id": "6a670d68-7e27-4367-8674-964867a734be",
   "metadata": {},
   "outputs": [
    {
     "data": {
      "text/html": [
       "<div>\n",
       "<style scoped>\n",
       "    .dataframe tbody tr th:only-of-type {\n",
       "        vertical-align: middle;\n",
       "    }\n",
       "\n",
       "    .dataframe tbody tr th {\n",
       "        vertical-align: top;\n",
       "    }\n",
       "\n",
       "    .dataframe thead th {\n",
       "        text-align: right;\n",
       "    }\n",
       "</style>\n",
       "<table border=\"1\" class=\"dataframe\">\n",
       "  <thead>\n",
       "    <tr style=\"text-align: right;\">\n",
       "      <th></th>\n",
       "      <th></th>\n",
       "      <th>Category</th>\n",
       "      <th>Price</th>\n",
       "      <th>Rating</th>\n",
       "      <th>Discount</th>\n",
       "    </tr>\n",
       "    <tr>\n",
       "      <th>Rating_Level</th>\n",
       "      <th>Stock</th>\n",
       "      <th></th>\n",
       "      <th></th>\n",
       "      <th></th>\n",
       "      <th></th>\n",
       "    </tr>\n",
       "  </thead>\n",
       "  <tbody>\n",
       "    <tr>\n",
       "      <th rowspan=\"5\" valign=\"top\">High</th>\n",
       "      <th>In Stock</th>\n",
       "      <td>Clothing</td>\n",
       "      <td>1354.0</td>\n",
       "      <td>4.168446</td>\n",
       "      <td>14.0</td>\n",
       "    </tr>\n",
       "    <tr>\n",
       "      <th>In Stock</th>\n",
       "      <td>Electronics</td>\n",
       "      <td>2260.0</td>\n",
       "      <td>4.984170</td>\n",
       "      <td>37.0</td>\n",
       "    </tr>\n",
       "    <tr>\n",
       "      <th>In Stock</th>\n",
       "      <td>Sports &amp; Outdoors</td>\n",
       "      <td>3424.0</td>\n",
       "      <td>4.173074</td>\n",
       "      <td>42.0</td>\n",
       "    </tr>\n",
       "    <tr>\n",
       "      <th>In Stock</th>\n",
       "      <td>Sports &amp; Outdoors</td>\n",
       "      <td>284.0</td>\n",
       "      <td>4.852188</td>\n",
       "      <td>33.0</td>\n",
       "    </tr>\n",
       "    <tr>\n",
       "      <th>In Stock</th>\n",
       "      <td>Sports &amp; Outdoors</td>\n",
       "      <td>4502.0</td>\n",
       "      <td>4.589988</td>\n",
       "      <td>40.0</td>\n",
       "    </tr>\n",
       "    <tr>\n",
       "      <th>...</th>\n",
       "      <th>...</th>\n",
       "      <td>...</td>\n",
       "      <td>...</td>\n",
       "      <td>...</td>\n",
       "      <td>...</td>\n",
       "    </tr>\n",
       "    <tr>\n",
       "      <th rowspan=\"5\" valign=\"top\">Medium</th>\n",
       "      <th>Stock Unknown</th>\n",
       "      <td>Groceries</td>\n",
       "      <td>7344.0</td>\n",
       "      <td>3.994355</td>\n",
       "      <td>39.0</td>\n",
       "    </tr>\n",
       "    <tr>\n",
       "      <th>Stock Unknown</th>\n",
       "      <td>Home &amp; Kitchen</td>\n",
       "      <td>8941.0</td>\n",
       "      <td>3.499803</td>\n",
       "      <td>NaN</td>\n",
       "    </tr>\n",
       "    <tr>\n",
       "      <th>Stock Unknown</th>\n",
       "      <td>Sports &amp; Outdoors</td>\n",
       "      <td>4734.0</td>\n",
       "      <td>3.266645</td>\n",
       "      <td>NaN</td>\n",
       "    </tr>\n",
       "    <tr>\n",
       "      <th>Stock Unknown</th>\n",
       "      <td>Sports &amp; Outdoors</td>\n",
       "      <td>4683.0</td>\n",
       "      <td>3.538718</td>\n",
       "      <td>40.0</td>\n",
       "    </tr>\n",
       "    <tr>\n",
       "      <th>Stock Unknown</th>\n",
       "      <td>Groceries</td>\n",
       "      <td>5237.0</td>\n",
       "      <td>3.218072</td>\n",
       "      <td>33.0</td>\n",
       "    </tr>\n",
       "  </tbody>\n",
       "</table>\n",
       "<p>872 rows × 4 columns</p>\n",
       "</div>"
      ],
      "text/plain": [
       "                                     Category   Price    Rating  Discount\n",
       "Rating_Level Stock                                                       \n",
       "High         In Stock                Clothing  1354.0  4.168446      14.0\n",
       "             In Stock             Electronics  2260.0  4.984170      37.0\n",
       "             In Stock       Sports & Outdoors  3424.0  4.173074      42.0\n",
       "             In Stock       Sports & Outdoors   284.0  4.852188      33.0\n",
       "             In Stock       Sports & Outdoors  4502.0  4.589988      40.0\n",
       "...                                       ...     ...       ...       ...\n",
       "Medium       Stock Unknown          Groceries  7344.0  3.994355      39.0\n",
       "             Stock Unknown     Home & Kitchen  8941.0  3.499803       NaN\n",
       "             Stock Unknown  Sports & Outdoors  4734.0  3.266645       NaN\n",
       "             Stock Unknown  Sports & Outdoors  4683.0  3.538718      40.0\n",
       "             Stock Unknown          Groceries  5237.0  3.218072      33.0\n",
       "\n",
       "[872 rows x 4 columns]"
      ]
     },
     "execution_count": 366,
     "metadata": {},
     "output_type": "execute_result"
    }
   ],
   "source": [
    "subset_df = subset_df.swaplevel()\n",
    "subset_df = subset_df.sort_index(level=0, ascending=True)\n",
    "subset_df"
   ]
  },
  {
   "cell_type": "markdown",
   "id": "d3650082-53ad-4679-94a7-be4ea37f263a",
   "metadata": {},
   "source": [
    "#### Task 15: Compute the average `Price` for each `Rating_Level` and sort the results in `ascending` order."
   ]
  },
  {
   "cell_type": "code",
   "execution_count": 367,
   "id": "e8185264-9990-4fba-bf04-cc8271af3fb9",
   "metadata": {},
   "outputs": [
    {
     "data": {
      "text/plain": [
       "Rating_Level\n",
       "Medium    4913.436620\n",
       "High      5174.357456\n",
       "Low       5201.685615\n",
       "Name: Price, dtype: float64"
      ]
     },
     "execution_count": 367,
     "metadata": {},
     "output_type": "execute_result"
    }
   ],
   "source": [
    "avg_price = subset_df.groupby(level='Rating_Level')['Price'].mean().sort_values(ascending=True)\n",
    "avg_price"
   ]
  },
  {
   "cell_type": "markdown",
   "id": "0f113e7a-f20e-48dd-9f9e-fc6ebbaa97cf",
   "metadata": {},
   "source": [
    "#### Task 16: Group the DataFrame by `Category` and `Rating_Level`, and calculate the maximum values of the `Price`, `Rating`, and `Discount` columns for each group."
   ]
  },
  {
   "cell_type": "code",
   "execution_count": 368,
   "id": "e594ec44-3d72-4e8c-b6c1-009643092a86",
   "metadata": {},
   "outputs": [
    {
     "data": {
      "text/html": [
       "<div>\n",
       "<style scoped>\n",
       "    .dataframe tbody tr th:only-of-type {\n",
       "        vertical-align: middle;\n",
       "    }\n",
       "\n",
       "    .dataframe tbody tr th {\n",
       "        vertical-align: top;\n",
       "    }\n",
       "\n",
       "    .dataframe thead th {\n",
       "        text-align: right;\n",
       "    }\n",
       "</style>\n",
       "<table border=\"1\" class=\"dataframe\">\n",
       "  <thead>\n",
       "    <tr style=\"text-align: right;\">\n",
       "      <th></th>\n",
       "      <th></th>\n",
       "      <th>Price</th>\n",
       "      <th>Rating</th>\n",
       "      <th>Discount</th>\n",
       "    </tr>\n",
       "    <tr>\n",
       "      <th>Category</th>\n",
       "      <th>Rating_Level</th>\n",
       "      <th></th>\n",
       "      <th></th>\n",
       "      <th></th>\n",
       "    </tr>\n",
       "  </thead>\n",
       "  <tbody>\n",
       "    <tr>\n",
       "      <th rowspan=\"3\" valign=\"top\">Clothing</th>\n",
       "      <th>High</th>\n",
       "      <td>9041.0</td>\n",
       "      <td>4.973084</td>\n",
       "      <td>47.0</td>\n",
       "    </tr>\n",
       "    <tr>\n",
       "      <th>Low</th>\n",
       "      <td>9911.0</td>\n",
       "      <td>2.905758</td>\n",
       "      <td>47.0</td>\n",
       "    </tr>\n",
       "    <tr>\n",
       "      <th>Medium</th>\n",
       "      <td>8741.0</td>\n",
       "      <td>3.932441</td>\n",
       "      <td>48.0</td>\n",
       "    </tr>\n",
       "    <tr>\n",
       "      <th rowspan=\"3\" valign=\"top\">Electronics</th>\n",
       "      <th>High</th>\n",
       "      <td>9221.0</td>\n",
       "      <td>4.992002</td>\n",
       "      <td>47.0</td>\n",
       "    </tr>\n",
       "    <tr>\n",
       "      <th>Low</th>\n",
       "      <td>9891.0</td>\n",
       "      <td>2.957987</td>\n",
       "      <td>48.0</td>\n",
       "    </tr>\n",
       "    <tr>\n",
       "      <th>Medium</th>\n",
       "      <td>9933.0</td>\n",
       "      <td>3.998443</td>\n",
       "      <td>49.0</td>\n",
       "    </tr>\n",
       "    <tr>\n",
       "      <th rowspan=\"3\" valign=\"top\">Groceries</th>\n",
       "      <th>High</th>\n",
       "      <td>9566.0</td>\n",
       "      <td>4.900050</td>\n",
       "      <td>47.0</td>\n",
       "    </tr>\n",
       "    <tr>\n",
       "      <th>Low</th>\n",
       "      <td>9974.0</td>\n",
       "      <td>2.957987</td>\n",
       "      <td>46.0</td>\n",
       "    </tr>\n",
       "    <tr>\n",
       "      <th>Medium</th>\n",
       "      <td>9841.0</td>\n",
       "      <td>3.994355</td>\n",
       "      <td>45.0</td>\n",
       "    </tr>\n",
       "    <tr>\n",
       "      <th rowspan=\"3\" valign=\"top\">Home &amp; Kitchen</th>\n",
       "      <th>High</th>\n",
       "      <td>9914.0</td>\n",
       "      <td>4.984170</td>\n",
       "      <td>47.0</td>\n",
       "    </tr>\n",
       "    <tr>\n",
       "      <th>Low</th>\n",
       "      <td>9895.0</td>\n",
       "      <td>2.957391</td>\n",
       "      <td>45.0</td>\n",
       "    </tr>\n",
       "    <tr>\n",
       "      <th>Medium</th>\n",
       "      <td>9328.0</td>\n",
       "      <td>3.994355</td>\n",
       "      <td>40.0</td>\n",
       "    </tr>\n",
       "    <tr>\n",
       "      <th rowspan=\"3\" valign=\"top\">Sports &amp; Outdoors</th>\n",
       "      <th>High</th>\n",
       "      <td>9984.0</td>\n",
       "      <td>4.997818</td>\n",
       "      <td>49.0</td>\n",
       "    </tr>\n",
       "    <tr>\n",
       "      <th>Low</th>\n",
       "      <td>9999.0</td>\n",
       "      <td>2.991612</td>\n",
       "      <td>49.0</td>\n",
       "    </tr>\n",
       "    <tr>\n",
       "      <th>Medium</th>\n",
       "      <td>9951.0</td>\n",
       "      <td>3.988162</td>\n",
       "      <td>48.0</td>\n",
       "    </tr>\n",
       "  </tbody>\n",
       "</table>\n",
       "</div>"
      ],
      "text/plain": [
       "                                 Price    Rating  Discount\n",
       "Category          Rating_Level                            \n",
       "Clothing          High          9041.0  4.973084      47.0\n",
       "                  Low           9911.0  2.905758      47.0\n",
       "                  Medium        8741.0  3.932441      48.0\n",
       "Electronics       High          9221.0  4.992002      47.0\n",
       "                  Low           9891.0  2.957987      48.0\n",
       "                  Medium        9933.0  3.998443      49.0\n",
       "Groceries         High          9566.0  4.900050      47.0\n",
       "                  Low           9974.0  2.957987      46.0\n",
       "                  Medium        9841.0  3.994355      45.0\n",
       "Home & Kitchen    High          9914.0  4.984170      47.0\n",
       "                  Low           9895.0  2.957391      45.0\n",
       "                  Medium        9328.0  3.994355      40.0\n",
       "Sports & Outdoors High          9984.0  4.997818      49.0\n",
       "                  Low           9999.0  2.991612      49.0\n",
       "                  Medium        9951.0  3.988162      48.0"
      ]
     },
     "execution_count": 368,
     "metadata": {},
     "output_type": "execute_result"
    }
   ],
   "source": [
    "max_values = subset_df.groupby(['Category', 'Rating_Level'])[['Price', 'Rating', 'Discount']].max()\n",
    "max_values"
   ]
  },
  {
   "cell_type": "markdown",
   "id": "17556709-35fa-4505-922a-c31289c43d89",
   "metadata": {},
   "source": [
    "#### Task 17: Sort the DataFrame in `ascending` order by the `Price` column. Identify the category of the product with the `lowest` price."
   ]
  },
  {
   "cell_type": "code",
   "execution_count": 369,
   "id": "6a331b2a-39c5-4425-944e-a91ae932b086",
   "metadata": {},
   "outputs": [
    {
     "data": {
      "text/plain": [
       "'Sports & Outdoors'"
      ]
     },
     "execution_count": 369,
     "metadata": {},
     "output_type": "execute_result"
    }
   ],
   "source": [
    "sorted_df = subset_df.sort_values(by='Price', ascending=True)\n",
    "sorted_df.iloc[0]['Category']\n"
   ]
  },
  {
   "cell_type": "markdown",
   "id": "49182cc2-7462-4d9b-83e5-a020c02ed352",
   "metadata": {},
   "source": [
    "#### Task 18: For each `Category`, create a single DataFrame that shows both the `minimum` and `maximum` prices."
   ]
  },
  {
   "cell_type": "code",
   "execution_count": 370,
   "id": "0aa86479-78fc-4671-bf2c-a10a85d3693b",
   "metadata": {},
   "outputs": [
    {
     "data": {
      "text/html": [
       "<div>\n",
       "<style scoped>\n",
       "    .dataframe tbody tr th:only-of-type {\n",
       "        vertical-align: middle;\n",
       "    }\n",
       "\n",
       "    .dataframe tbody tr th {\n",
       "        vertical-align: top;\n",
       "    }\n",
       "\n",
       "    .dataframe thead th {\n",
       "        text-align: right;\n",
       "    }\n",
       "</style>\n",
       "<table border=\"1\" class=\"dataframe\">\n",
       "  <thead>\n",
       "    <tr style=\"text-align: right;\">\n",
       "      <th></th>\n",
       "      <th>min</th>\n",
       "      <th>max</th>\n",
       "    </tr>\n",
       "    <tr>\n",
       "      <th>Category</th>\n",
       "      <th></th>\n",
       "      <th></th>\n",
       "    </tr>\n",
       "  </thead>\n",
       "  <tbody>\n",
       "    <tr>\n",
       "      <th>Clothing</th>\n",
       "      <td>107.0</td>\n",
       "      <td>9919.0</td>\n",
       "    </tr>\n",
       "    <tr>\n",
       "      <th>Electronics</th>\n",
       "      <td>108.0</td>\n",
       "      <td>9997.0</td>\n",
       "    </tr>\n",
       "    <tr>\n",
       "      <th>Groceries</th>\n",
       "      <td>126.0</td>\n",
       "      <td>9974.0</td>\n",
       "    </tr>\n",
       "    <tr>\n",
       "      <th>Home &amp; Kitchen</th>\n",
       "      <td>112.0</td>\n",
       "      <td>9988.0</td>\n",
       "    </tr>\n",
       "    <tr>\n",
       "      <th>Sports &amp; Outdoors</th>\n",
       "      <td>102.0</td>\n",
       "      <td>9999.0</td>\n",
       "    </tr>\n",
       "  </tbody>\n",
       "</table>\n",
       "</div>"
      ],
      "text/plain": [
       "                     min     max\n",
       "Category                        \n",
       "Clothing           107.0  9919.0\n",
       "Electronics        108.0  9997.0\n",
       "Groceries          126.0  9974.0\n",
       "Home & Kitchen     112.0  9988.0\n",
       "Sports & Outdoors  102.0  9999.0"
      ]
     },
     "execution_count": 370,
     "metadata": {},
     "output_type": "execute_result"
    }
   ],
   "source": [
    "df.groupby('Category')['Price'].agg(['min', 'max'])"
   ]
  },
  {
   "cell_type": "markdown",
   "id": "91d5e541-474c-40fe-a15c-7d4dda685902",
   "metadata": {},
   "source": [
    "#### Task 19: Create a pivot table using `Rating_Level` as the index and `Category` as the columns. What do the resulting values represent? How can you modify the pivot table call if you want to apply a different aggregation function?"
   ]
  },
  {
   "cell_type": "code",
   "execution_count": 371,
   "id": "67400956-4cc9-40a4-885d-6e6004ea523d",
   "metadata": {},
   "outputs": [
    {
     "data": {
      "text/html": [
       "<div>\n",
       "<style scoped>\n",
       "    .dataframe tbody tr th:only-of-type {\n",
       "        vertical-align: middle;\n",
       "    }\n",
       "\n",
       "    .dataframe tbody tr th {\n",
       "        vertical-align: top;\n",
       "    }\n",
       "\n",
       "    .dataframe thead th {\n",
       "        text-align: right;\n",
       "    }\n",
       "</style>\n",
       "<table border=\"1\" class=\"dataframe\">\n",
       "  <thead>\n",
       "    <tr style=\"text-align: right;\">\n",
       "      <th>Category</th>\n",
       "      <th>Clothing</th>\n",
       "      <th>Electronics</th>\n",
       "      <th>Groceries</th>\n",
       "      <th>Home &amp; Kitchen</th>\n",
       "      <th>Sports &amp; Outdoors</th>\n",
       "    </tr>\n",
       "    <tr>\n",
       "      <th>Rating_Level</th>\n",
       "      <th></th>\n",
       "      <th></th>\n",
       "      <th></th>\n",
       "      <th></th>\n",
       "      <th></th>\n",
       "    </tr>\n",
       "  </thead>\n",
       "  <tbody>\n",
       "    <tr>\n",
       "      <th>High</th>\n",
       "      <td>5328.309278</td>\n",
       "      <td>4668.485849</td>\n",
       "      <td>5115.559406</td>\n",
       "      <td>5299.301587</td>\n",
       "      <td>4987.961039</td>\n",
       "    </tr>\n",
       "    <tr>\n",
       "      <th>Low</th>\n",
       "      <td>5458.994444</td>\n",
       "      <td>4968.030000</td>\n",
       "      <td>4972.497664</td>\n",
       "      <td>4882.591837</td>\n",
       "      <td>4955.010781</td>\n",
       "    </tr>\n",
       "    <tr>\n",
       "      <th>Medium</th>\n",
       "      <td>5355.445545</td>\n",
       "      <td>4739.850515</td>\n",
       "      <td>5251.340909</td>\n",
       "      <td>5059.827103</td>\n",
       "      <td>4986.986055</td>\n",
       "    </tr>\n",
       "  </tbody>\n",
       "</table>\n",
       "</div>"
      ],
      "text/plain": [
       "Category         Clothing  Electronics    Groceries  Home & Kitchen  \\\n",
       "Rating_Level                                                          \n",
       "High          5328.309278  4668.485849  5115.559406     5299.301587   \n",
       "Low           5458.994444  4968.030000  4972.497664     4882.591837   \n",
       "Medium        5355.445545  4739.850515  5251.340909     5059.827103   \n",
       "\n",
       "Category      Sports & Outdoors  \n",
       "Rating_Level                     \n",
       "High                4987.961039  \n",
       "Low                 4955.010781  \n",
       "Medium              4986.986055  "
      ]
     },
     "execution_count": 371,
     "metadata": {},
     "output_type": "execute_result"
    }
   ],
   "source": [
    "df.pivot_table(index='Rating_Level', columns='Category', values='Price') #  using aggfunc i can modify it"
   ]
  },
  {
   "cell_type": "markdown",
   "id": "b690e54b-5d7d-4644-924a-8ee8cdc853b7",
   "metadata": {},
   "source": [
    "#### Task 20: If there are any missing values in the `Discount` column, remove the corresponding rows from the DataFrame. How many rows were removed as a result?"
   ]
  },
  {
   "cell_type": "code",
   "execution_count": 372,
   "id": "1ef8cf60-8ad0-4326-8d99-79221eca3b03",
   "metadata": {},
   "outputs": [
    {
     "data": {
      "text/plain": [
       "392"
      ]
     },
     "execution_count": 372,
     "metadata": {},
     "output_type": "execute_result"
    }
   ],
   "source": [
    "initial_rows = len(df)\n",
    "df = df.dropna(subset=['Discount'])\n",
    "rows_removed = initial_rows - len(df)\n",
    "rows_removed\n"
   ]
  }
 ],
 "metadata": {
  "kernelspec": {
   "display_name": "Python 3",
   "language": "python",
   "name": "python3"
  },
  "language_info": {
   "codemirror_mode": {
    "name": "ipython",
    "version": 3
   },
   "file_extension": ".py",
   "mimetype": "text/x-python",
   "name": "python",
   "nbconvert_exporter": "python",
   "pygments_lexer": "ipython3",
   "version": "3.11.9"
  }
 },
 "nbformat": 4,
 "nbformat_minor": 5
}
