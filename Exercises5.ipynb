{
 "cells": [
  {
   "cell_type": "markdown",
   "id": "dae57426-0840-4189-a8ea-60f6ace4c6cc",
   "metadata": {},
   "source": [
    "# Exercises (22/09)"
   ]
  },
  {
   "cell_type": "markdown",
   "id": "1feefe6e-2d10-4155-84c6-1430cf833f7a",
   "metadata": {},
   "source": [
    "**Exercise 1**: Create two 3x3 NumPy arrays `A` and `B` with random integer values between `0` and `10`. Perform the following operations:\n",
    "\n",
    "1. Element-wise addition of `A` and `B`.\n",
    "2. Element-wise multiplication of `A` and `B`.\n",
    "3. Matrix multiplication (dot product) of `A` and `B` (look this up).\n",
    "4. Find the transpose of `A`."
   ]
  },
  {
   "cell_type": "code",
   "execution_count": 3,
   "id": "ffe7d681-3157-4e7b-8584-41ce7e6df5eb",
   "metadata": {},
   "outputs": [
    {
     "name": "stdout",
     "output_type": "stream",
     "text": [
      "A:\n",
      " [[ 3  9  5]\n",
      " [ 4  1 10]\n",
      " [ 3  7  7]]\n",
      "B:\n",
      " [[6 1 7]\n",
      " [0 8 5]\n",
      " [3 7 6]]\n",
      "Element addition:\n",
      " [[ 9 10 12]\n",
      " [ 4  9 15]\n",
      " [ 6 14 13]]\n",
      "Element multiplication:\n",
      " [[18  9 35]\n",
      " [ 0  8 50]\n",
      " [ 9 49 42]]\n",
      "Matrix multiplication:\n",
      " [[ 33 110  96]\n",
      " [ 54  82  93]\n",
      " [ 39 108  98]]\n",
      "Transpose\n",
      " [[ 3  4  3]\n",
      " [ 9  1  7]\n",
      " [ 5 10  7]]\n"
     ]
    }
   ],
   "source": [
    "import numpy as np\n",
    "import pandas as pd\n",
    "\n",
    "A = np.random.randint(0, 11, (3, 3))\n",
    "B = np.random.randint(0, 11, (3, 3))\n",
    "\n",
    "add_result = A + B\n",
    "mul_result = A * B\n",
    "dot_result = A @ B\n",
    "transpose_A = A.T\n",
    "\n",
    "print(\"A:\\n\", A)\n",
    "print(\"B:\\n\", B)\n",
    "print(\"Element addition:\\n\", add_result)\n",
    "print(\"Element multiplication:\\n\", mul_result)\n",
    "print(\"Matrix multiplication:\\n\", dot_result)\n",
    "print(\"Transpose\\n\", transpose_A)"
   ]
  },
  {
   "cell_type": "markdown",
   "id": "e48041a1-68ab-4d12-8b6a-3b8cdce3f33c",
   "metadata": {},
   "source": [
    "**Exercise 2**: Create a 5x5 array of random integers between 0 and 20, and perform the following tasks:\n",
    "\n",
    "1. Extract the second row.\n",
    "2. Extract the third column.\n",
    "3. Extract a `2x2` sub-array from the bottom-right corner.\n",
    "4. Set all the elements in the first row to `100`."
   ]
  },
  {
   "cell_type": "code",
   "execution_count": 4,
   "id": "8a58ffe2-9e2b-4d84-9326-7b162b7a1378",
   "metadata": {},
   "outputs": [
    {
     "name": "stdout",
     "output_type": "stream",
     "text": [
      "array:\n",
      " [[100 100 100 100 100]\n",
      " [ 13  10  18  12   4]\n",
      " [  2   6   1  19   0]\n",
      " [  2  17  10   3   9]\n",
      " [ 17  17   8  20  10]]\n",
      "second row:\n",
      " [13 10 18 12  4]\n",
      "third column:\n",
      " [100  18   1  10   8]\n",
      "sub-array:\n",
      " [[ 3  9]\n",
      " [20 10]]\n"
     ]
    }
   ],
   "source": [
    "arr = np.random.randint(0, 21, (5, 5))\n",
    "\n",
    "second_row = arr[1, :]\n",
    "third_column = arr[:, 2]\n",
    "bottom_right_sub = arr[3:, 3:]\n",
    "arr[0, :] = 100\n",
    "\n",
    "print(\"array:\\n\", arr)\n",
    "print(\"second row:\\n\", second_row)\n",
    "print(\"third column:\\n\", third_column)\n",
    "print(\"sub-array:\\n\", bottom_right_sub)\n"
   ]
  },
  {
   "cell_type": "markdown",
   "id": "2937bf75-e895-4c3c-a15c-cd7396ca19dc",
   "metadata": {},
   "source": [
    "**Exercise 3**: Create a NumPy array of `50` random floating-point numbers between `0` and `1`. Calculate the following statistics:\n",
    "\n",
    "1. Mean of the array.\n",
    "2. Median of the array.\n",
    "3. Standard deviation.\n",
    "4. Minimum and maximum values."
   ]
  },
  {
   "cell_type": "code",
   "execution_count": 5,
   "id": "9299fe43-caf3-4ef4-bae9-55af991ff8ef",
   "metadata": {},
   "outputs": [
    {
     "name": "stdout",
     "output_type": "stream",
     "text": [
      "mean: 0.4778612020797891\n",
      "median: 0.41949918417603466\n",
      "std: 0.2923773907859694\n",
      "min: 0.003033376871365734\n",
      "max: 0.9639596462212594\n"
     ]
    }
   ],
   "source": [
    "arr = np.random.rand(50)\n",
    "\n",
    "mean_val = arr.mean()\n",
    "median_val = np.median(arr)\n",
    "std_val = arr.std()\n",
    "min_val = arr.min()\n",
    "max_val = arr.max()\n",
    "\n",
    "print(\"mean:\", mean_val)\n",
    "print(\"median:\", median_val)\n",
    "print(\"std:\", std_val)\n",
    "print(\"min:\", min_val)\n",
    "print(\"max:\", max_val)"
   ]
  },
  {
   "cell_type": "markdown",
   "id": "31138fb8-3059-4124-9055-9afc94f41a9b",
   "metadata": {},
   "source": [
    "**Exercise 4**: Create a NumPy array with values from `1` to `16` (reasearch `arange` function). Reshape the array into the following shapes:\n",
    "\n",
    "1. A `4x4` matrix.\n",
    "2. A `2x8` matrix.\n",
    "3. A `16x1` matrix."
   ]
  },
  {
   "cell_type": "code",
   "execution_count": 6,
   "id": "238d41bd-6152-409b-bf11-f81481908868",
   "metadata": {},
   "outputs": [
    {
     "name": "stdout",
     "output_type": "stream",
     "text": [
      "4x4 matrix:\n",
      " [[ 1  2  3  4]\n",
      " [ 5  6  7  8]\n",
      " [ 9 10 11 12]\n",
      " [13 14 15 16]]\n",
      "2x8 matrix:\n",
      " [[ 1  2  3  4  5  6  7  8]\n",
      " [ 9 10 11 12 13 14 15 16]]\n",
      "16x1 matrix:\n",
      " [[ 1]\n",
      " [ 2]\n",
      " [ 3]\n",
      " [ 4]\n",
      " [ 5]\n",
      " [ 6]\n",
      " [ 7]\n",
      " [ 8]\n",
      " [ 9]\n",
      " [10]\n",
      " [11]\n",
      " [12]\n",
      " [13]\n",
      " [14]\n",
      " [15]\n",
      " [16]]\n"
     ]
    }
   ],
   "source": [
    "arr = np.arange(1, 17)\n",
    "\n",
    "arr_4x4 = arr.reshape(4, 4)\n",
    "arr_2x8 = arr.reshape(2, 8)\n",
    "arr_16x1 = arr.reshape(16, 1)\n",
    "\n",
    "print(\"4x4 matrix:\\n\", arr_4x4)\n",
    "print(\"2x8 matrix:\\n\", arr_2x8)\n",
    "print(\"16x1 matrix:\\n\", arr_16x1)"
   ]
  },
  {
   "cell_type": "markdown",
   "id": "d8876cc3-2b28-4d63-8a1d-92f92ccebbc1",
   "metadata": {},
   "source": [
    "**Exercise 5**: Create a `6x6` NumPy array with random integers between `0` and `50`. Use Boolean indexing to:\n",
    "\n",
    "1. Find all elements greater than `25`.\n",
    "2. Replace all elements less than `10` with `-1`.\n",
    "3. Count how many elements are even."
   ]
  },
  {
   "cell_type": "code",
   "execution_count": 7,
   "id": "d78590d2-c606-4f79-ac44-6f4e617c8efc",
   "metadata": {},
   "outputs": [
    {
     "name": "stdout",
     "output_type": "stream",
     "text": [
      "array:\n",
      " [[18 24 13 45 35 19]\n",
      " [49 27 48 35 45 -1]\n",
      " [26 19 44 40 39 28]\n",
      " [27 28 48 46 50 26]\n",
      " [33 -1 41 46 12 23]\n",
      " [32 30 14 34 21 44]]\n",
      "elements greater than 25:\n",
      " [45 35 49 27 48 35 45 26 44 40 39 28 27 28 48 46 50 26 33 41 46 32 30 34\n",
      " 44]\n",
      "number of even elements: 19\n"
     ]
    }
   ],
   "source": [
    "arr = np.random.randint(0, 51, (6, 6))\n",
    "\n",
    "greater_25 = arr[arr > 25]\n",
    "arr[arr < 10] = -1\n",
    "even_count = np.sum(arr % 2 == 0)\n",
    "\n",
    "print(\"array:\\n\", arr)\n",
    "print(\"elements greater than 25:\\n\", greater_25)\n",
    "print(\"number of even elements:\", even_count)"
   ]
  },
  {
   "cell_type": "markdown",
   "id": "485e2f9d-6382-46f7-bc5b-5f53edc28e9c",
   "metadata": {},
   "source": [
    "**Exercise 1: Exploring Categorical Data**\n",
    "\n",
    "Create a pandas DataFrame representing a group of employees. Include two categorical columns: \"Department\" (with categories Sales, Marketing, and HR) and \"Job Level\" (with categories Junior, Intermediate, and Senior).\n",
    "\n",
    "**Tasks**:\n",
    "1. Calculate and display the count of employees in each department and at each job level using the `value_counts()` method.\n",
    "2. Perform `one-hot encoding` for the \"Department\" column to create binary columns for each department.\n",
    "3. Rename the categories in the `\"Job Level\"` column to abbreviations, such as \"Jr\" for Junior, \"Int\" for Intermediate, and \"Sr\" for Senior."
   ]
  },
  {
   "cell_type": "code",
   "execution_count": 8,
   "id": "afc8ca7a-cffa-495e-bbda-8231f5efe658",
   "metadata": {},
   "outputs": [
    {
     "name": "stdout",
     "output_type": "stream",
     "text": [
      "department counts:\n",
      " Department\n",
      "Sales        7\n",
      "Marketing    5\n",
      "HR           3\n",
      "Name: count, dtype: int64\n",
      "job level counts:\n",
      " Job Level\n",
      "Senior          6\n",
      "Junior          5\n",
      "Intermediate    4\n",
      "Name: count, dtype: int64\n",
      "one-hot encoding of department:\n",
      "        HR  Marketing  Sales\n",
      "0   False      False   True\n",
      "1    True      False  False\n",
      "2   False       True  False\n",
      "3    True      False  False\n",
      "4   False       True  False\n",
      "5   False       True  False\n",
      "6   False      False   True\n",
      "7   False      False   True\n",
      "8   False      False   True\n",
      "9   False      False   True\n",
      "10  False      False   True\n",
      "11  False       True  False\n",
      "12   True      False  False\n",
      "13  False       True  False\n",
      "14  False      False   True\n",
      "abbreviated job levels:\n",
      "    Department Job Level\n",
      "0       Sales        Jr\n",
      "1          HR        Jr\n",
      "2   Marketing        Sr\n",
      "3          HR       Int\n",
      "4   Marketing       Int\n",
      "5   Marketing        Sr\n",
      "6       Sales        Jr\n",
      "7       Sales        Jr\n",
      "8       Sales        Jr\n",
      "9       Sales        Sr\n",
      "10      Sales        Sr\n",
      "11  Marketing        Sr\n",
      "12         HR       Int\n",
      "13  Marketing        Sr\n",
      "14      Sales       Int\n"
     ]
    }
   ],
   "source": [
    "df = pd.DataFrame({\n",
    "    \"Department\": np.random.choice([\"Sales\", \"Marketing\", \"HR\"], 15),\n",
    "    \"Job Level\": np.random.choice([\"Junior\", \"Intermediate\", \"Senior\"], 15)\n",
    "})\n",
    "\n",
    "dept_counts = df[\"Department\"].value_counts()\n",
    "job_counts = df[\"Job Level\"].value_counts()\n",
    "\n",
    "dept_onehot = pd.get_dummies(df[\"Department\"])\n",
    "df[\"Job Level\"] = df[\"Job Level\"].replace({\"Junior\": \"Jr\", \"Intermediate\": \"Int\", \"Senior\": \"Sr\"})\n",
    "\n",
    "print(\"department counts:\\n\", dept_counts)\n",
    "print(\"job level counts:\\n\", job_counts)\n",
    "print(\"one-hot encoding of department:\\n\", dept_onehot)\n",
    "print(\"abbreviated job levels:\\n\", df)"
   ]
  },
  {
   "cell_type": "markdown",
   "id": "8fe26c55-51f2-468f-8f4c-88a79ed27b6c",
   "metadata": {},
   "source": [
    "**Exercise 2: Analyzing Categorical Data**\n",
    "\n",
    "Load a dataset with categorical columns, such as the Titanic dataset.\n",
    "\n",
    "**Tasks**:\n",
    "1. Calculate the survival rate for passengers by class (1st, 2nd, 3rd).\n",
    "2. Determine the most common embarkation port for passengers.\n",
    "3. Create a pivot table to compare the average fare paid by passengers in different classes and different embarkation ports."
   ]
  },
  {
   "cell_type": "code",
   "execution_count": 9,
   "id": "f7be8dc4-f1e5-47c4-af1b-ecabd71fd499",
   "metadata": {},
   "outputs": [
    {
     "name": "stdout",
     "output_type": "stream",
     "text": [
      "survival rate by class:\n",
      " pclass\n",
      "1    0.629630\n",
      "2    0.472826\n",
      "3    0.242363\n",
      "Name: survived, dtype: float64\n",
      "most common embarkation port: S\n",
      "pivot table:\n",
      " embarked           C          Q          S\n",
      "pclass                                    \n",
      "1         104.718529  90.000000  70.364862\n",
      "2          25.358335  12.350000  20.327439\n",
      "3          11.214083  11.183393  14.644083\n"
     ]
    }
   ],
   "source": [
    "import seaborn as sns\n",
    "\n",
    "titanic = sns.load_dataset(\"titanic\")\n",
    "\n",
    "survival_by_class = titanic.groupby(\"pclass\")[\"survived\"].mean()\n",
    "most_common_port = titanic[\"embarked\"].mode()[0]\n",
    "fare_pivot = titanic.pivot_table(values=\"fare\", index=\"pclass\", columns=\"embarked\", aggfunc=\"mean\")\n",
    "\n",
    "print(\"survival rate by class:\\n\", survival_by_class)\n",
    "print(\"most common embarkation port:\", most_common_port)\n",
    "print(\"pivot table:\\n\", fare_pivot)"
   ]
  },
  {
   "cell_type": "markdown",
   "id": "26dc5140-e80a-4e4e-a5d6-6447a3dd219d",
   "metadata": {},
   "source": [
    "**Exercise 3: Working with Ordinal Categorical Data**\n",
    "\n",
    "**Tasks**:\n",
    "1. Create a DataFrame with an ordinal categorical column like `\"Rating\"` (e.g., Poor, Fair, Good, Excellent).\n",
    "2. Define the custom order for the ordinal categories.\n",
    "3. Sort the DataFrame based on the `\"Rating\"` column, considering the custom order."
   ]
  },
  {
   "cell_type": "code",
   "execution_count": 10,
   "id": "0959178b-a34d-4e38-9d1a-e9fe27230e99",
   "metadata": {},
   "outputs": [
    {
     "name": "stdout",
     "output_type": "stream",
     "text": [
      "original dataframe:\n",
      "       Name     Rating\n",
      "0    Alice       Poor\n",
      "1      Bob       Fair\n",
      "2  Charlie  Excellent\n",
      "3    David       Fair\n",
      "4      Eva       Fair\n",
      "sorted dataframe:\n",
      "       Name     Rating\n",
      "0    Alice       Poor\n",
      "1      Bob       Fair\n",
      "3    David       Fair\n",
      "4      Eva       Fair\n",
      "2  Charlie  Excellent\n"
     ]
    }
   ],
   "source": [
    "df = pd.DataFrame({\n",
    "    \"Name\": [\"Alice\", \"Bob\", \"Charlie\", \"David\", \"Eva\"],\n",
    "    \"Rating\": np.random.choice([\"Poor\", \"Fair\", \"Good\", \"Excellent\"], 5)\n",
    "})\n",
    "\n",
    "rating_order = [\"Poor\", \"Fair\", \"Good\", \"Excellent\"]\n",
    "df[\"Rating\"] = pd.Categorical(df[\"Rating\"], categories=rating_order, ordered=True)\n",
    "df_sorted = df.sort_values(\"Rating\")\n",
    "\n",
    "print(\"original dataframe:\\n\", df)\n",
    "print(\"sorted dataframe:\\n\", df_sorted)"
   ]
  },
  {
   "cell_type": "markdown",
   "id": "7a98cbf4-fcde-47a1-9330-755c21d962ab",
   "metadata": {},
   "source": [
    "# Exercises (24/09)"
   ]
  },
  {
   "cell_type": "markdown",
   "id": "9856a953-c579-4c64-923a-a7de4c957ee1",
   "metadata": {
    "tags": []
   },
   "source": [
    "**Exercise 1**: Create a 1D array of numbers from `0` to `9`:"
   ]
  },
  {
   "cell_type": "code",
   "execution_count": 11,
   "id": "cf014cef-c720-4f6d-98da-edb70dac50c1",
   "metadata": {},
   "outputs": [
    {
     "name": "stdout",
     "output_type": "stream",
     "text": [
      "[0 1 2 3 4 5 6 7 8 9]\n"
     ]
    }
   ],
   "source": [
    "arr = np.arange(10)\n",
    "print(arr)"
   ]
  },
  {
   "cell_type": "markdown",
   "id": "67366e03-74c7-44e2-aca2-b479b4c207a2",
   "metadata": {},
   "source": [
    "**Exercise 2**: Create a `3×3` numpy array of all True:"
   ]
  },
  {
   "cell_type": "code",
   "execution_count": 12,
   "id": "2dfe17eb-ad40-4538-8135-9e8d01a03024",
   "metadata": {},
   "outputs": [
    {
     "name": "stdout",
     "output_type": "stream",
     "text": [
      "[[ True  True  True]\n",
      " [ True  True  True]\n",
      " [ True  True  True]]\n"
     ]
    }
   ],
   "source": [
    "arr = np.ones((3, 3), dtype=bool)\n",
    "print(arr)"
   ]
  },
  {
   "cell_type": "markdown",
   "id": "e4f72cde-1298-4271-9a4d-594172b2d980",
   "metadata": {},
   "source": [
    "**Exercise 3**: Extract all `odd` numbers from `a`:"
   ]
  },
  {
   "cell_type": "code",
   "execution_count": 14,
   "id": "bca464ac-41e8-46c1-b1bb-1809b252ab0c",
   "metadata": {
    "tags": []
   },
   "outputs": [
    {
     "name": "stdout",
     "output_type": "stream",
     "text": [
      "[1 3 5 7 9]\n"
     ]
    }
   ],
   "source": [
    "arr = np.array([0, 1, 2, 3, 4, 5, 6, 7, 8, 9])\n",
    "odd_numbers = arr[arr % 2 == 1]\n",
    "print(odd_numbers)"
   ]
  },
  {
   "cell_type": "markdown",
   "id": "d31d1f02-81fb-4e8e-8716-4d43779769fd",
   "metadata": {},
   "source": [
    "**Exercise 4**: Replace all `odd` numbers in arr with `-1`:"
   ]
  },
  {
   "cell_type": "code",
   "execution_count": 15,
   "id": "26b630f9-59e0-4607-8da7-b3be218fd53e",
   "metadata": {},
   "outputs": [
    {
     "name": "stdout",
     "output_type": "stream",
     "text": [
      "[ 0 -1  2 -1  4 -1  6 -1  8 -1]\n"
     ]
    }
   ],
   "source": [
    "arr[arr % 2 == 1] = -1\n",
    "print(arr)  "
   ]
  },
  {
   "cell_type": "markdown",
   "id": "78d47c79-9f1f-4ed9-990a-37ac49c133e0",
   "metadata": {},
   "source": [
    "**Exercise 5**: Convert a 1D array to a 2D array with `2` rows:"
   ]
  },
  {
   "cell_type": "code",
   "execution_count": 16,
   "id": "0ef9b79e-70d1-4824-b65b-25c8776c730c",
   "metadata": {
    "tags": []
   },
   "outputs": [
    {
     "name": "stdout",
     "output_type": "stream",
     "text": [
      "[[0 1 2 3 4]\n",
      " [5 6 7 8 9]]\n"
     ]
    }
   ],
   "source": [
    "arr = np.arange(10)\n",
    "arr_2d = arr.reshape(2, -1)\n",
    "print(arr_2d)"
   ]
  }
 ],
 "metadata": {
  "kernelspec": {
   "display_name": "Python 3",
   "language": "python",
   "name": "python3"
  },
  "language_info": {
   "codemirror_mode": {
    "name": "ipython",
    "version": 3
   },
   "file_extension": ".py",
   "mimetype": "text/x-python",
   "name": "python",
   "nbconvert_exporter": "python",
   "pygments_lexer": "ipython3",
   "version": "3.11.9"
  }
 },
 "nbformat": 4,
 "nbformat_minor": 5
}
