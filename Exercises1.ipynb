{
 "cells": [
  {
   "cell_type": "markdown",
   "id": "6d35f7dd-6bdf-46de-aa14-b24148fe43a2",
   "metadata": {},
   "source": [
    "## In-class Exercises \n",
    "### Due on Gradescope 09/02, 11:59pm"
   ]
  },
  {
   "cell_type": "markdown",
   "id": "35e762bd-8462-4957-aa34-00290fccbca2",
   "metadata": {},
   "source": [
    "**Exercise 1: Creating and Manipulating a Series**\n",
    "\n",
    "Create a Pandas Series with the following data: `[10, 20, 30, 40, 50]`. Perform the following tasks:\n",
    "\n",
    "* Assign the index labels as 'a', 'b', 'c', 'd', and 'e'.\n",
    "* Multiply each value in the Series by 2 and update the Series.\n",
    "* Select the value corresponding to index 'c'."
   ]
  },
  {
   "cell_type": "code",
   "execution_count": 2,
   "id": "46434fec-eda2-45ed-a0d0-eef7531ee833",
   "metadata": {},
   "outputs": [
    {
     "name": "stdout",
     "output_type": "stream",
     "text": [
      "60\n"
     ]
    }
   ],
   "source": [
    "import pandas as pd\n",
    "\n",
    "data = pd.Series([10, 20, 30, 40, 50], index= ['a', 'b', 'c', 'd', 'e'])\n",
    "data = data * 2\n",
    "print(data['c'])"
   ]
  },
  {
   "cell_type": "markdown",
   "id": "20b31535-e5e8-4a61-820e-33c379a64af3",
   "metadata": {},
   "source": [
    "**Exercise 2: Checking for Missing Data in a Series**\n",
    "\n",
    "Create a Pandas Series with the following data: `[5, None, 15, None, 25]`. Perform the following tasks:\n",
    "\n",
    "* Identify the missing data in the Series.\n",
    "* Replace the missing data with the mean of the non-missing values."
   ]
  },
  {
   "cell_type": "code",
   "execution_count": 3,
   "id": "4871f203-d3fd-4fc8-9659-3d3bc377977f",
   "metadata": {},
   "outputs": [
    {
     "name": "stdout",
     "output_type": "stream",
     "text": [
      "0    False\n",
      "1     True\n",
      "2    False\n",
      "3     True\n",
      "4    False\n",
      "dtype: bool\n",
      "0     5.0\n",
      "1    15.0\n",
      "2    15.0\n",
      "3    15.0\n",
      "4    25.0\n",
      "dtype: float64\n"
     ]
    }
   ],
   "source": [
    "data2 = pd.Series([5, None, 15, None, 25])\n",
    "print(data2.isna())\n",
    "print(data2.fillna(data2.mean()))"
   ]
  },
  {
   "cell_type": "markdown",
   "id": "83b7f4c7-68b4-48ba-b7e6-ae2acdb0fafd",
   "metadata": {},
   "source": [
    "**Exercise 3: Analyzing and Filtering a Series Based on Conditions**\n",
    "\n",
    "Create a Pandas Series representing the daily temperatures (in Celsius) for a week: `[22, 19, 23, 25, 21, 18, 20]`. The index should represent the days of the week, starting from `'Monday'` to `'Sunday'`. Perform the following tasks:\n",
    "\n",
    "* Calculate the mean temperature for the week.\n",
    "* Filter out the days where the temperature was above the weekly mean and create a new Series.\n",
    "* Convert the temperatures in the filtered Series from Celsius to Fahrenheit using the formula: `F = C * 9/5 + 32`."
   ]
  },
  {
   "cell_type": "code",
   "execution_count": 4,
   "id": "a59a3aa7-8b06-4910-99fa-38e07c8bed76",
   "metadata": {},
   "outputs": [
    {
     "name": "stdout",
     "output_type": "stream",
     "text": [
      "Monday       71.6\n",
      "Wednesday    73.4\n",
      "Thursday     77.0\n",
      "dtype: float64\n"
     ]
    }
   ],
   "source": [
    "temps = pd.Series([22, 19, 23, 25, 21, 18, 20], index= ['Monday', 'Tuesday', 'Wednesday', 'Thursday', 'Friday', 'Saturday', 'Sunday'])\n",
    "new_temps = pd.Series(temps[temps > temps.mean()])\n",
    "new_temps = new_temps * 9/5 + 32\n",
    "print(new_temps)"
   ]
  },
  {
   "cell_type": "markdown",
   "id": "e6d6a82a-6461-4576-89c0-0dcab3b0bbdf",
   "metadata": {},
   "source": [
    "**Exercise 4: Creating and Analyzing a Series of Country Populations**\n",
    "\n",
    "1. **Research**  \n",
    "   Use Google or a trusted source (e.g., World Bank, Wikipedia) to find the **2025 population** estimates for **any 5 countries** of your choice.\n",
    "\n",
    "2. **Create a Series**\n",
    "   - Use country names as the **index**.\n",
    "   - Use population numbers (in millions) as the **values**.\n",
    "   - Name the Series `\"Population2025\"`.\n",
    "   - Set the index name to `\"Country\"`.\n",
    "\n",
    "3. **Perform the Following Tasks**\n",
    "   - Print the Series and display its `.index` and `.name` attributes.\n",
    "   - Use `.describe()` to summarize the population data.\n",
    "   - Create another Series called `\"InternetUsers\"` (in millions) — use **estimated or fictional** values for the same 5 countries.\n",
    "   - Combine the two Series — `Population2025` and `InternetUsers` — into a single DataFrame.\n",
    "   - Compute the **internet penetration rate**:\n",
    "     ```python\n",
    "     penetration_rate = InternetUsers / Population2025 * 100\n",
    "     ```\n",
    "     Round to 2 decimal places using round().\n",
    "\n",
    "4. **Reflection**\n",
    "   - One possible real-world question you could explore with this data."
   ]
  },
  {
   "cell_type": "code",
   "execution_count": 10,
   "id": "7d99b6f3-7aec-48e4-871e-2db12e71b70e",
   "metadata": {},
   "outputs": [
    {
     "name": "stdout",
     "output_type": "stream",
     "text": [
      "Country\n",
      "Japan       123103479\n",
      "Egypt       118365995\n",
      "Turkey       87685426\n",
      "Tanzania     70545865\n",
      "Italy        59146260\n",
      "Name: Population2025, dtype: int64 Index(['Japan', 'Egypt', 'Turkey', 'Tanzania', 'Italy'], dtype='object', name='Country') Population2025\n",
      "count    5.000000e+00\n",
      "mean     9.176940e+07\n",
      "std      2.837512e+07\n",
      "min      5.914626e+07\n",
      "25%      7.054586e+07\n",
      "50%      8.768543e+07\n",
      "75%      1.183660e+08\n",
      "max      1.231035e+08\n",
      "Name: Population2025, dtype: float64\n",
      "Country\n",
      "Japan       108103479\n",
      "Egypt       103365995\n",
      "Turkey       72685426\n",
      "Tanzania     55545865\n",
      "Italy        44146260\n",
      "Name: InternetUsers, dtype: int64\n",
      "          Population2025  InternetUsers\n",
      "Country                                \n",
      "Japan          123103479      108103479\n",
      "Egypt          118365995      103365995\n",
      "Turkey          87685426       72685426\n",
      "Tanzania        70545865       55545865\n",
      "Italy           59146260       44146260\n",
      "Country\n",
      "Japan       87.82\n",
      "Egypt       87.33\n",
      "Turkey      82.89\n",
      "Tanzania    78.74\n",
      "Italy       74.64\n",
      "dtype: float64\n"
     ]
    }
   ],
   "source": [
    "Population2025 = pd.Series([123103479, 118365995, 87685426, 70545865, 59146260], index= ('Japan', 'Egypt', 'Turkey', 'Tanzania', 'Italy'), name = 'Population2025')\n",
    "Population2025.index.name = 'Country'\n",
    "print(Population2025, Population2025.index, Population2025.name)\n",
    "print(Population2025.describe())\n",
    "\n",
    "InternetUsers = pd.Series(Population2025 - 15000000, name = 'InternetUsers')\n",
    "print(InternetUsers)\n",
    "\n",
    "df = pd.DataFrame([Population2025, InternetUsers]).T\n",
    "print(df)\n",
    "penetration_rate = (InternetUsers / Population2025) * 100\n",
    "print(penetration_rate.round(2))\n",
    "\n",
    "# One real world question you could explore would be \"To what extent is there a relevant correlation between population size and internet penetration percentage in a country? \""
   ]
  }
 ],
 "metadata": {
  "kernelspec": {
   "display_name": "Python 3",
   "language": "python",
   "name": "python3"
  },
  "language_info": {
   "codemirror_mode": {
    "name": "ipython",
    "version": 3
   },
   "file_extension": ".py",
   "mimetype": "text/x-python",
   "name": "python",
   "nbconvert_exporter": "python",
   "pygments_lexer": "ipython3",
   "version": "3.11.9"
  }
 },
 "nbformat": 4,
 "nbformat_minor": 5
}
